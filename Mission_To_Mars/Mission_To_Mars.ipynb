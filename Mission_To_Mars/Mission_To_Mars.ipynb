{
 "cells": [
  {
   "cell_type": "code",
   "execution_count": 1,
   "metadata": {},
   "outputs": [],
   "source": [
    "import pandas as pd\n",
    "from splinter import Browser\n",
    "from bs4 import BeautifulSoup\n",
    "import os\n",
    "import requests\n",
    "import pymongo"
   ]
  },
  {
   "cell_type": "markdown",
   "metadata": {},
   "source": [
    "## NASA Mars News"
   ]
  },
  {
   "cell_type": "code",
   "execution_count": 108,
   "metadata": {},
   "outputs": [],
   "source": [
    "executable_path = {'executable_path': 'chromedriver.exe'}\n",
    "browser = Browser('chrome', **executable_path, headless=False)"
   ]
  },
  {
   "cell_type": "code",
   "execution_count": 111,
   "metadata": {},
   "outputs": [],
   "source": [
    "url = 'https://mars.nasa.gov/news/'\n",
    "browser.visit(url)\n",
    "\n",
    "html = browser.html\n",
    "soup = BeautifulSoup(html, 'html.parser')"
   ]
  },
  {
   "cell_type": "code",
   "execution_count": 126,
   "metadata": {},
   "outputs": [],
   "source": [
    "summary=soup.find('div', class_='list_text')\n",
    "\n",
    "title=summary.find('div', class_='content_title')\n",
    "title= title.text\n",
    "\n",
    "paragraph=summary.find('div', class_='article_teaser_body')\n",
    "paragraph= paragraph.text"
   ]
  },
  {
   "cell_type": "code",
   "execution_count": 127,
   "metadata": {},
   "outputs": [
    {
     "name": "stdout",
     "output_type": "stream",
     "text": [
      "Title: NASA Engineers Checking InSight's Weather Sensors\n",
      "-----------------------------------------------------------------------------\n",
      "Paragraph: An electronics issue is suspected to be preventing the sensors from sharing their data about Mars weather with the spacecraft.\n"
     ]
    }
   ],
   "source": [
    "print(f'Title: {title}')\n",
    "print('-----------------------------------------------------------------------------')\n",
    "print(f'Paragraph: {paragraph}')"
   ]
  },
  {
   "cell_type": "markdown",
   "metadata": {},
   "source": [
    " ## JPL Mars Space Images - Featured Image\n",
    " "
   ]
  },
  {
   "cell_type": "code",
   "execution_count": 128,
   "metadata": {},
   "outputs": [],
   "source": [
    "url1='https://www.jpl.nasa.gov/spaceimages/?search=&category=Mars'"
   ]
  },
  {
   "cell_type": "code",
   "execution_count": 129,
   "metadata": {},
   "outputs": [],
   "source": [
    "response1 = requests.get(url1)"
   ]
  },
  {
   "cell_type": "code",
   "execution_count": 130,
   "metadata": {},
   "outputs": [],
   "source": [
    "soup1 = BeautifulSoup(response1.text, 'html.parser')"
   ]
  },
  {
   "cell_type": "code",
   "execution_count": 131,
   "metadata": {},
   "outputs": [
    {
     "name": "stdout",
     "output_type": "stream",
     "text": [
      "/spaceimages/images/mediumsize/PIA18452_ip.jpg\n"
     ]
    }
   ],
   "source": [
    "image = soup1.find('article')\n",
    "#print(image)\n",
    "\n",
    "image1= image.footer.a\n",
    "#print(image1)\n",
    "\n",
    "image2=image1['data-fancybox-href']\n",
    "print(image2)\n"
   ]
  },
  {
   "cell_type": "code",
   "execution_count": 132,
   "metadata": {},
   "outputs": [],
   "source": [
    "img_link = f'https://jpl.nasa.gov{image2}'"
   ]
  },
  {
   "cell_type": "code",
   "execution_count": 133,
   "metadata": {},
   "outputs": [
    {
     "name": "stdout",
     "output_type": "stream",
     "text": [
      "https://jpl.nasa.gov/spaceimages/images/mediumsize/PIA18452_ip.jpg\n"
     ]
    }
   ],
   "source": [
    "print(img_link)"
   ]
  },
  {
   "cell_type": "markdown",
   "metadata": {},
   "source": [
    "## Mars Weather"
   ]
  },
  {
   "cell_type": "code",
   "execution_count": 51,
   "metadata": {},
   "outputs": [],
   "source": [
    "from splinter import Browser\n",
    "from bs4 import BeautifulSoup"
   ]
  },
  {
   "cell_type": "code",
   "execution_count": 52,
   "metadata": {},
   "outputs": [],
   "source": [
    "executable_path = {'executable_path': 'chromedriver.exe'}\n",
    "browser = Browser('chrome', **executable_path, headless=False)"
   ]
  },
  {
   "cell_type": "code",
   "execution_count": 53,
   "metadata": {},
   "outputs": [],
   "source": [
    "url2 = 'https://twitter.com/marswxreport?lang=en'\n",
    "browser.visit(url2)\n",
    "\n",
    "html = browser.html\n",
    "soup2 = BeautifulSoup(html, 'html.parser')"
   ]
  },
  {
   "cell_type": "code",
   "execution_count": 54,
   "metadata": {},
   "outputs": [
    {
     "name": "stdout",
     "output_type": "stream",
     "text": [
      "<body style=\"background-color: rgb(255, 255, 255);\">\n",
      " <noscript>\n",
      "  &lt;form action=\"https://mobile.twitter.com/i/nojs_router?path=%2Fmarswxreport%3Flang%3Den\" method=\"POST\" style=\"background-color: #fff; position: fixed; top: 0; left: 0; right: 0; bottom: 0; z-index: 9999;\"&gt;\n",
      "      &lt;div style=\"font-size: 18px; font-family: Helvetica,sans-serif; line-height: 24px; margin: 10%; width: 80%;\"&gt;\n",
      "        &lt;p&gt;We've detected that JavaScript is disabled in your browser. Would you like to proceed to legacy Twitter?&lt;/p&gt;\n",
      "        &lt;p style=\"margin: 20px 0;\"&gt;\n",
      "          &lt;button type=\"submit\" style=\"background-color: #1da1f2; border-radius: 100px; border: none; box-shadow: none; color: #fff; cursor: pointer; font-size: 14px; font-weight: bold; line-height: 20px; padding: 6px 16px;\"&gt;Yes&lt;/button&gt;\n",
      "        &lt;/p&gt;\n",
      "      &lt;/div&gt;\n",
      "    &lt;/form&gt;\n",
      " </noscript>\n",
      " <div id=\"react-root\" style=\"height:100%;display:flex;\">\n",
      "  <div class=\"css-1dbjc4n r-13awgt0 r-12vffkv\">\n",
      "   <div class=\"css-1dbjc4n r-13awgt0 r-12vffkv\">\n",
      "    <div class=\"r-1d2f490 r-u8s1d r-zchlnj r-ipm5af r-184en5c\" id=\"layers\" style=\"\">\n",
      "     <div class=\"css-1dbjc4n r-aqfbo4 r-1p0dtai r-1d2f490 r-12vffkv r-1xcajam r-zchlnj\">\n",
      "      <div class=\"css-1dbjc4n r-12vffkv\">\n",
      "       <div class=\"css-1dbjc4n r-12vffkv\">\n",
      "        <div class=\"css-1dbjc4n r-urgr8i r-1upvrn0\">\n",
      "         <div class=\"css-1dbjc4n r-18u37iz r-1777fci r-zg41ew\">\n",
      "          <div class=\"css-1dbjc4n r-1awozwy r-18u37iz r-1wtj0ep r-33ulu8\">\n",
      "           <div class=\"css-1dbjc4n\">\n",
      "            <div class=\"css-901oao r-jwli3a r-1qd0xha r-1blvdjr r-vw2c0b r-ad9z0x r-bcqeeo r-qvutc0\" dir=\"auto\">\n",
      "             <span class=\"css-901oao css-16my406 r-1qd0xha r-ad9z0x r-bcqeeo r-qvutc0\">\n",
      "              Don’t miss what’s happening\n",
      "             </span>\n",
      "            </div>\n",
      "            <div class=\"css-901oao r-jwli3a r-1qd0xha r-a023e6 r-16dba41 r-ad9z0x r-bcqeeo r-qvutc0\" dir=\"auto\">\n",
      "             <span class=\"css-901oao css-16my406 r-1qd0xha r-ad9z0x r-bcqeeo r-qvutc0\">\n",
      "              People on Twitter are the first to know.\n",
      "             </span>\n",
      "            </div>\n",
      "           </div>\n",
      "           <div class=\"css-1dbjc4n r-1oy2gb8\">\n",
      "            <div class=\"css-1dbjc4n r-1awozwy r-1pz39u2 r-18u37iz r-16y2uox\">\n",
      "             <div class=\"css-1dbjc4n r-16y2uox\">\n",
      "              <a class=\"css-4rbku5 css-18t94o4 css-1dbjc4n r-1niwhzg r-11mg6pl r-sdzlij r-1phboty r-rs99b7 r-1loqt21 r-1w2pmg r-1vuscfd r-1dhvaqw r-1ny4l3l r-1fneopy r-o7ynqc r-6416eg r-lrvibr\" data-focusable=\"true\" data-testid=\"login\" href=\"/login\" role=\"button\">\n",
      "               <div class=\"css-901oao r-1awozwy r-jwli3a r-6koalj r-18u37iz r-16y2uox r-1qd0xha r-a023e6 r-vw2c0b r-1777fci r-eljoum r-dnmrzs r-bcqeeo r-q4m81j r-qvutc0\" dir=\"auto\">\n",
      "                <span class=\"css-901oao css-16my406 css-bfa6kz r-1qd0xha r-ad9z0x r-bcqeeo r-qvutc0\">\n",
      "                 <span class=\"css-901oao css-16my406 r-1qd0xha r-ad9z0x r-bcqeeo r-qvutc0\">\n",
      "                  Log in\n",
      "                 </span>\n",
      "                </span>\n",
      "               </div>\n",
      "              </a>\n",
      "             </div>\n",
      "             <div class=\"css-1dbjc4n r-16y2uox r-1n0xq6e\">\n",
      "              <a class=\"css-4rbku5 css-18t94o4 css-1dbjc4n r-14lw9ot r-42olwf r-sdzlij r-1phboty r-rs99b7 r-1loqt21 r-1w2pmg r-1vuscfd r-1dhvaqw r-1ny4l3l r-1fneopy r-o7ynqc r-6416eg r-lrvibr\" data-focusable=\"true\" data-testid=\"signup\" href=\"/i/flow/signup\" role=\"button\">\n",
      "               <div class=\"css-901oao r-1awozwy r-13gxpu9 r-6koalj r-18u37iz r-16y2uox r-1qd0xha r-a023e6 r-vw2c0b r-1777fci r-eljoum r-dnmrzs r-bcqeeo r-q4m81j r-qvutc0\" dir=\"auto\">\n",
      "                <span class=\"css-901oao css-16my406 css-bfa6kz r-1qd0xha r-ad9z0x r-bcqeeo r-qvutc0\">\n",
      "                 <span class=\"css-901oao css-16my406 r-1qd0xha r-ad9z0x r-bcqeeo r-qvutc0\">\n",
      "                  Sign up\n",
      "                 </span>\n",
      "                </span>\n",
      "               </div>\n",
      "              </a>\n",
      "             </div>\n",
      "            </div>\n",
      "           </div>\n",
      "          </div>\n",
      "         </div>\n",
      "        </div>\n",
      "       </div>\n",
      "      </div>\n",
      "      <div class=\"css-1dbjc4n r-12vffkv\">\n",
      "       <div class=\"css-1dbjc4n r-12vffkv\">\n",
      "        <div class=\"css-1dbjc4n\">\n",
      "        </div>\n",
      "       </div>\n",
      "      </div>\n",
      "     </div>\n",
      "    </div>\n",
      "    <div aria-hidden=\"false\" class=\"css-1dbjc4n r-18u37iz r-13qz1uu r-417010\" style=\"min-height: 888px;\">\n",
      "     <div aria-label=\"Skip to recommended content\" class=\"css-18t94o4 css-1dbjc4n r-1niwhzg r-1awa8pu r-sdzlij r-1phboty r-4iw3lz r-1xk2f4g r-109y4c4 r-1vuscfd r-1dhvaqw r-1ny4l3l r-1udh08x r-wwvuq4 r-1fneopy r-u8s1d r-o7ynqc r-6416eg r-lrvibr r-92ng3h\" data-focusable=\"true\" role=\"button\" tabindex=\"0\">\n",
      "      <div class=\"css-901oao r-1awozwy r-1re7ezh r-6koalj r-18u37iz r-16y2uox r-1qd0xha r-a023e6 r-vw2c0b r-1777fci r-eljoum r-dnmrzs r-bcqeeo r-q4m81j r-qvutc0\" dir=\"auto\">\n",
      "       <span class=\"css-901oao css-16my406 css-bfa6kz r-1qd0xha r-ad9z0x r-bcqeeo r-qvutc0\">\n",
      "       </span>\n",
      "      </div>\n",
      "     </div>\n",
      "     <div aria-label=\"Skip to secondary content\" class=\"css-18t94o4 css-1dbjc4n r-1niwhzg r-1awa8pu r-sdzlij r-1phboty r-4iw3lz r-1xk2f4g r-109y4c4 r-1vuscfd r-1dhvaqw r-1ny4l3l r-1udh08x r-wwvuq4 r-1fneopy r-u8s1d r-o7ynqc r-6416eg r-lrvibr r-92ng3h\" data-focusable=\"true\" role=\"button\" tabindex=\"0\">\n",
      "      <div class=\"css-901oao r-1awozwy r-1re7ezh r-6koalj r-18u37iz r-16y2uox r-1qd0xha r-a023e6 r-vw2c0b r-1777fci r-eljoum r-dnmrzs r-bcqeeo r-q4m81j r-qvutc0\" dir=\"auto\">\n",
      "       <span class=\"css-901oao css-16my406 css-bfa6kz r-1qd0xha r-ad9z0x r-bcqeeo r-qvutc0\">\n",
      "       </span>\n",
      "      </div>\n",
      "     </div>\n",
      "     <header class=\"css-1dbjc4n r-obd0qt r-16y2uox r-1g40b8q\" role=\"banner\">\n",
      "      <div class=\"css-1dbjc4n r-f9dfq4\">\n",
      "       <div class=\"css-1dbjc4n r-aqfbo4 r-1pi2tsx r-1xcajam r-ipm5af\">\n",
      "        <div class=\"css-1dbjc4n r-1pi2tsx r-1wtj0ep r-1rnoaur r-utggzx r-f9dfq4\">\n",
      "         <div class=\"css-1dbjc4n r-1awozwy\">\n",
      "          <div class=\"css-1dbjc4n r-dnmrzs r-1vvnge1\">\n",
      "           <h1 class=\"css-4rbku5 css-1dbjc4n r-1awozwy r-1pz39u2 r-1loqt21 r-6koalj r-16y2uox r-1777fci r-18qmn74\" role=\"heading\">\n",
      "            <a aria-label=\"Twitter\" class=\"css-4rbku5 css-18t94o4 css-1dbjc4n r-1niwhzg r-42olwf r-sdzlij r-1phboty r-rs99b7 r-1loqt21 r-1w2pmg r-1jayybb r-mtrfb5 r-1ny4l3l r-mk0yit r-o7ynqc r-6416eg r-lrvibr\" data-focusable=\"true\" href=\"/\" role=\"button\">\n",
      "             <div class=\"css-901oao r-1awozwy r-13gxpu9 r-6koalj r-18u37iz r-16y2uox r-1qd0xha r-a023e6 r-vw2c0b r-1777fci r-eljoum r-dnmrzs r-bcqeeo r-q4m81j r-qvutc0\" dir=\"auto\">\n",
      "              <svg class=\"r-13gxpu9 r-4qtqp9 r-yyyyoo r-16y2uox r-1q142lx r-8kz0gk r-dnmrzs r-bnwqim r-1plcrui r-lrvibr r-1srniue\" viewbox=\"0 0 24 24\" xmlns=\"http://www.w3.org/2000/svg\">\n",
      "               <g>\n",
      "                <path d=\"M23.643 4.937c-.835.37-1.732.62-2.675.733.962-.576 1.7-1.49 2.048-2.578-.9.534-1.897.922-2.958 1.13-.85-.904-2.06-1.47-3.4-1.47-2.572 0-4.658 2.086-4.658 4.66 0 .364.042.718.12 1.06-3.873-.195-7.304-2.05-9.602-4.868-.4.69-.63 1.49-.63 2.342 0 1.616.823 3.043 2.072 3.878-.764-.025-1.482-.234-2.11-.583v.06c0 2.257 1.605 4.14 3.737 4.568-.392.106-.803.162-1.227.162-.3 0-.593-.028-.877-.082.593 1.85 2.313 3.198 4.352 3.234-1.595 1.25-3.604 1.995-5.786 1.995-.376 0-.747-.022-1.112-.065 2.062 1.323 4.51 2.093 7.14 2.093 8.57 0 13.255-7.098 13.255-13.254 0-.2-.005-.402-.014-.602.91-.658 1.7-1.477 2.323-2.41z\">\n",
      "                </path>\n",
      "               </g>\n",
      "              </svg>\n",
      "              <span class=\"css-901oao css-16my406 css-bfa6kz r-1qd0xha r-ad9z0x r-bcqeeo r-qvutc0\">\n",
      "              </span>\n",
      "             </div>\n",
      "            </a>\n",
      "           </h1>\n",
      "          </div>\n",
      "          <div class=\"css-1dbjc4n r-1awozwy r-d0pm55 r-1bymd8e r-13qz1uu\">\n",
      "           <nav aria-label=\"Primary\" class=\"css-1dbjc4n r-1awozwy r-eqz5dr\" role=\"navigation\">\n",
      "            <a aria-label=\"Search and explore\" class=\"css-4rbku5 css-18t94o4 css-1dbjc4n r-1habvwh r-1loqt21 r-6koalj r-eqz5dr r-16y2uox r-1ny4l3l r-oyd9sg r-13qz1uu\" data-focusable=\"true\" data-testid=\"AppTabBar_Explore_Link\" href=\"/explore\" role=\"link\">\n",
      "             <div class=\"css-1dbjc4n r-1awozwy r-sdzlij r-18u37iz r-1777fci r-dnmrzs r-1sp51qo r-o7ynqc r-6416eg\">\n",
      "              <div class=\"css-1dbjc4n\">\n",
      "               <svg class=\"r-hkyrab r-4qtqp9 r-yyyyoo r-lwhw9o r-dnmrzs r-bnwqim r-1plcrui r-lrvibr\" viewbox=\"0 0 24 24\" xmlns=\"http://www.w3.org/2000/svg\">\n",
      "                <g>\n",
      "                 <path d=\"M21.53 20.47l-3.66-3.66C19.195 15.24 20 13.214 20 11c0-4.97-4.03-9-9-9s-9 4.03-9 9 4.03 9 9 9c2.215 0 4.24-.804 5.808-2.13l3.66 3.66c.147.146.34.22.53.22s.385-.073.53-.22c.295-.293.295-.767.002-1.06zM3.5 11c0-4.135 3.365-7.5 7.5-7.5s7.5 3.365 7.5 7.5-3.365 7.5-7.5 7.5-7.5-3.365-7.5-7.5z\">\n",
      "                 </path>\n",
      "                </g>\n",
      "               </svg>\n",
      "              </div>\n",
      "             </div>\n",
      "            </a>\n",
      "            <a aria-label=\"Settings\" class=\"css-4rbku5 css-18t94o4 css-1dbjc4n r-1habvwh r-1loqt21 r-6koalj r-eqz5dr r-16y2uox r-1ny4l3l r-oyd9sg r-13qz1uu\" data-focusable=\"true\" href=\"/settings\" role=\"link\">\n",
      "             <div class=\"css-1dbjc4n r-1awozwy r-sdzlij r-18u37iz r-1777fci r-dnmrzs r-1sp51qo r-o7ynqc r-6416eg\">\n",
      "              <div class=\"css-1dbjc4n\">\n",
      "               <svg class=\"r-hkyrab r-4qtqp9 r-yyyyoo r-lwhw9o r-dnmrzs r-bnwqim r-1plcrui r-lrvibr\" viewbox=\"0 0 24 24\" xmlns=\"http://www.w3.org/2000/svg\">\n",
      "                <g>\n",
      "                 <path d=\"M12 8.21c-2.09 0-3.79 1.7-3.79 3.79s1.7 3.79 3.79 3.79 3.79-1.7 3.79-3.79-1.7-3.79-3.79-3.79zm0 6.08c-1.262 0-2.29-1.026-2.29-2.29S10.74 9.71 12 9.71s2.29 1.026 2.29 2.29-1.028 2.29-2.29 2.29z\">\n",
      "                 </path>\n",
      "                 <path d=\"M12.36 22.375h-.722c-1.183 0-2.154-.888-2.262-2.064l-.014-.147c-.025-.287-.207-.533-.472-.644-.286-.12-.582-.065-.798.115l-.116.097c-.868.725-2.253.663-3.06-.14l-.51-.51c-.836-.84-.896-2.154-.14-3.06l.098-.118c.186-.222.23-.523.122-.787-.11-.272-.358-.454-.646-.48l-.15-.014c-1.18-.107-2.067-1.08-2.067-2.262v-.722c0-1.183.888-2.154 2.064-2.262l.156-.014c.285-.025.53-.207.642-.473.11-.27.065-.573-.12-.795l-.094-.116c-.757-.908-.698-2.223.137-3.06l.512-.512c.804-.804 2.188-.865 3.06-.14l.116.098c.218.184.528.23.79.122.27-.112.452-.358.477-.643l.014-.153c.107-1.18 1.08-2.066 2.262-2.066h.722c1.183 0 2.154.888 2.262 2.064l.014.156c.025.285.206.53.472.64.277.117.58.062.794-.117l.12-.102c.867-.723 2.254-.662 3.06.14l.51.512c.836.838.896 2.153.14 3.06l-.1.118c-.188.22-.234.522-.123.788.112.27.36.45.646.478l.152.014c1.18.107 2.067 1.08 2.067 2.262v.723c0 1.183-.888 2.154-2.064 2.262l-.155.014c-.284.024-.53.205-.64.47-.113.272-.067.574.117.795l.1.12c.756.905.696 2.22-.14 3.06l-.51.51c-.807.804-2.19.864-3.06.14l-.115-.096c-.217-.183-.53-.23-.79-.122-.273.114-.455.36-.48.646l-.014.15c-.107 1.173-1.08 2.06-2.262 2.06zm-3.773-4.42c.3 0 .593.06.87.175.79.328 1.324 1.054 1.4 1.896l.014.147c.037.4.367.7.77.7h.722c.4 0 .73-.3.768-.7l.014-.148c.076-.842.61-1.567 1.392-1.892.793-.33 1.696-.182 2.333.35l.113.094c.178.148.366.18.493.18.206 0 .4-.08.546-.227l.51-.51c.284-.284.305-.73.048-1.038l-.1-.12c-.542-.65-.677-1.54-.352-2.323.326-.79 1.052-1.32 1.894-1.397l.155-.014c.397-.037.7-.367.7-.77v-.722c0-.4-.303-.73-.702-.768l-.152-.014c-.846-.078-1.57-.61-1.895-1.393-.326-.788-.19-1.678.353-2.327l.1-.118c.257-.31.236-.756-.048-1.04l-.51-.51c-.146-.147-.34-.227-.546-.227-.127 0-.315.032-.492.18l-.12.1c-.634.528-1.55.67-2.322.354-.788-.327-1.32-1.052-1.397-1.896l-.014-.155c-.035-.397-.365-.7-.767-.7h-.723c-.4 0-.73.303-.768.702l-.014.152c-.076.843-.608 1.568-1.39 1.893-.787.326-1.693.183-2.33-.35l-.118-.096c-.18-.15-.368-.18-.495-.18-.206 0-.4.08-.546.226l-.512.51c-.282.284-.303.73-.046 1.038l.1.118c.54.653.677 1.544.352 2.325-.327.788-1.052 1.32-1.895 1.397l-.156.014c-.397.037-.7.367-.7.77v.722c0 .4.303.73.702.768l.15.014c.848.078 1.573.612 1.897 1.396.325.786.19 1.675-.353 2.325l-.096.115c-.26.31-.238.756.046 1.04l.51.51c.146.147.34.227.546.227.127 0 .315-.03.492-.18l.116-.096c.406-.336.923-.524 1.453-.524z\">\n",
      "                 </path>\n",
      "                </g>\n",
      "               </svg>\n",
      "              </div>\n",
      "             </div>\n",
      "            </a>\n",
      "           </nav>\n",
      "          </div>\n",
      "         </div>\n",
      "        </div>\n",
      "       </div>\n",
      "      </div>\n",
      "     </header>\n",
      "     <main class=\"css-1dbjc4n r-1habvwh r-16xksha r-1wbh5a2\" role=\"main\">\n",
      "      <div class=\"css-1dbjc4n r-150rngu r-16y2uox r-1wbh5a2 r-33ulu8\">\n",
      "       <div class=\"css-1dbjc4n r-aqfbo4 r-16y2uox\">\n",
      "        <div class=\"css-1dbjc4n r-1oszu61 r-1niwhzg r-18u37iz r-16y2uox r-1wtj0ep r-2llsf r-13qz1uu\">\n",
      "         <div class=\"css-1dbjc4n r-14lw9ot r-1tlfku8 r-1ljd8xs r-13l2t4g r-1phboty r-1jgb5lz r-11wrixw r-61z16t r-1ye8kvj r-13qz1uu r-184en5c\" data-testid=\"primaryColumn\">\n",
      "          <div class=\"css-1dbjc4n\">\n",
      "           <div class=\"css-1dbjc4n r-aqfbo4 r-14lw9ot r-my5ep6 r-rull8r r-qklmqi r-gtdqiz r-ipm5af r-1g40b8q\">\n",
      "            <div class=\"css-1dbjc4n r-1loqt21 r-136ojw6\">\n",
      "             <div class=\"css-1dbjc4n r-1h3ijdo r-136ojw6\">\n",
      "              <div class=\"css-1dbjc4n\">\n",
      "               <div class=\"css-1dbjc4n r-14lw9ot r-1h3ijdo r-1j3t67a\">\n",
      "                <div class=\"css-1dbjc4n r-1awozwy r-18u37iz r-1h3ijdo r-1777fci r-1jgb5lz r-1ye8kvj r-13qz1uu\">\n",
      "                 <div class=\"css-1dbjc4n r-1habvwh r-1pz39u2 r-1777fci r-1vsu8ta r-u0dd49\">\n",
      "                  <div aria-label=\"Back\" class=\"css-18t94o4 css-1dbjc4n r-1niwhzg r-42olwf r-sdzlij r-1phboty r-rs99b7 r-1w2pmg r-1vuscfd r-53xb7h r-1ny4l3l r-mk0yit r-o7ynqc r-6416eg r-lrvibr\" data-focusable=\"true\" role=\"button\" style=\"margin-left: calc(5px + (-1 * (41px - 1.5em)) / 2);\" tabindex=\"0\">\n",
      "                   <div class=\"css-901oao r-1awozwy r-13gxpu9 r-6koalj r-18u37iz r-16y2uox r-1qd0xha r-a023e6 r-vw2c0b r-1777fci r-eljoum r-dnmrzs r-bcqeeo r-q4m81j r-qvutc0\" dir=\"auto\">\n",
      "                    <svg class=\"r-13gxpu9 r-4qtqp9 r-yyyyoo r-1q142lx r-50lct3 r-dnmrzs r-bnwqim r-1plcrui r-lrvibr r-1srniue\" viewbox=\"0 0 24 24\" xmlns=\"http://www.w3.org/2000/svg\">\n",
      "                     <g>\n",
      "                      <path d=\"M20 11H7.414l4.293-4.293c.39-.39.39-1.023 0-1.414s-1.023-.39-1.414 0l-6 6c-.39.39-.39 1.023 0 1.414l6 6c.195.195.45.293.707.293s.512-.098.707-.293c.39-.39.39-1.023 0-1.414L7.414 13H20c.553 0 1-.447 1-1s-.447-1-1-1z\">\n",
      "                      </path>\n",
      "                     </g>\n",
      "                    </svg>\n",
      "                    <span class=\"css-901oao css-16my406 css-bfa6kz r-1qd0xha r-ad9z0x r-bcqeeo r-qvutc0\">\n",
      "                    </span>\n",
      "                   </div>\n",
      "                  </div>\n",
      "                 </div>\n",
      "                 <div class=\"css-1dbjc4n r-16y2uox r-1wbh5a2 r-1pi2tsx r-1777fci\">\n",
      "                  <div class=\"css-1dbjc4n r-1habvwh\">\n",
      "                   <h2 aria-level=\"2\" class=\"css-4rbku5 css-901oao css-bfa6kz r-hkyrab r-1qd0xha r-1b6yd1w r-1vr29t4 r-ad9z0x r-bcqeeo r-qvutc0\" dir=\"ltr\" role=\"heading\">\n",
      "                    <span class=\"css-901oao css-16my406 r-1qd0xha r-ad9z0x r-bcqeeo r-qvutc0\">\n",
      "                     Profile\n",
      "                    </span>\n",
      "                   </h2>\n",
      "                  </div>\n",
      "                 </div>\n",
      "                </div>\n",
      "               </div>\n",
      "              </div>\n",
      "             </div>\n",
      "            </div>\n",
      "            <div class=\"css-1dbjc4n r-1p0dtai r-18u37iz r-1777fci r-1d2f490 r-12vffkv r-u8s1d r-zchlnj r-1wyyakw\">\n",
      "             <div class=\"css-1dbjc4n\" role=\"status\">\n",
      "              <div aria-hidden=\"true\" aria-label=\"New Tweets are available. Push period to go to the beginning of your timeline and view them\" class=\"css-18t94o4 css-1dbjc4n r-urgr8i r-sdzlij r-y3da5r r-1777fci r-orgf3d r-1ny4l3l r-1j3t67a r-d3hbe1 r-o7ynqc r-6416eg r-nx0j10\" role=\"button\">\n",
      "               <div class=\"css-1dbjc4n r-18u37iz r-atwnbb\">\n",
      "                <svg class=\"r-1kihuf0 r-jwli3a r-4qtqp9 r-yyyyoo r-1xvli5t r-7o8qx1 r-dnmrzs r-bnwqim r-1plcrui r-lrvibr r-19wmn03\" viewbox=\"0 0 24 24\" xmlns=\"http://www.w3.org/2000/svg\">\n",
      "                 <g>\n",
      "                  <path d=\"M18.707 10.293l-6-6c-.39-.39-1.023-.39-1.414 0l-6 6c-.39.39-.39 1.023 0 1.414.195.195.45.293.707.293s.512-.098.707-.293L11 7.414V20c0 .553.447 1 1 1s1-.447 1-1V7.414l4.293 4.293c.195.195.45.293.707.293s.512-.098.707-.293c.39-.39.39-1.023 0-1.414z\">\n",
      "                  </path>\n",
      "                 </g>\n",
      "                </svg>\n",
      "                <div class=\"css-1dbjc4n\">\n",
      "                 <div class=\"css-1dbjc4n r-18u37iz r-1q142lx\">\n",
      "                 </div>\n",
      "                </div>\n",
      "                <div class=\"css-901oao css-bfa6kz r-jwli3a r-1qd0xha r-a023e6 r-16dba41 r-ad9z0x r-bcqeeo r-qvutc0\" dir=\"auto\">\n",
      "                 <span class=\"css-901oao css-16my406 r-1qd0xha r-ad9z0x r-bcqeeo r-qvutc0\">\n",
      "                  See new Tweets\n",
      "                 </span>\n",
      "                </div>\n",
      "               </div>\n",
      "              </div>\n",
      "             </div>\n",
      "            </div>\n",
      "           </div>\n",
      "           <div class=\"css-1dbjc4n\">\n",
      "            <div class=\"css-1dbjc4n r-1awozwy r-16y2uox r-1777fci r-utggzx r-tvv088\">\n",
      "             <div aria-label=\"Loading Tweets by @marswxreport\" aria-valuemax=\"1\" aria-valuemin=\"0\" class=\"css-1dbjc4n r-1awozwy r-1777fci\" role=\"progressbar\">\n",
      "              <div class=\"css-1dbjc4n r-17bb2tj r-1muvv40 r-127358a r-1ldzwu0\" style=\"height: 26px; width: 26px;\">\n",
      "               <svg height=\"100%\" viewbox=\"0 0 32 32\" width=\"100%\" xmlns=\"http://www.w3.org/2000/svg\">\n",
      "                <circle cx=\"16\" cy=\"16\" fill=\"none\" r=\"14\" stroke-width=\"4\" style=\"stroke: rgb(29, 161, 242); opacity: 0.2;\">\n",
      "                </circle>\n",
      "                <circle cx=\"16\" cy=\"16\" fill=\"none\" r=\"14\" stroke-width=\"4\" style=\"stroke: rgb(29, 161, 242); stroke-dasharray: 80; stroke-dashoffset: 60;\">\n",
      "                </circle>\n",
      "               </svg>\n",
      "              </div>\n",
      "             </div>\n",
      "            </div>\n",
      "           </div>\n",
      "          </div>\n",
      "         </div>\n",
      "        </div>\n",
      "       </div>\n",
      "      </div>\n",
      "     </main>\n",
      "    </div>\n",
      "   </div>\n",
      "  </div>\n",
      " </div>\n",
      " <script nonce=\"\">\n",
      "  window.__INITIAL_STATE__ = {\"optimist\":[],\"featureSwitch\":{\"config\":{\"2fa_multikey_management_enabled\":{\"value\":false},\"account_country_setting_countries_whitelist\":{\"value\":[\"ad\",\"ae\",\"af\",\"ag\",\"ai\",\"al\",\"am\",\"ao\",\"ar\",\"as\",\"at\",\"au\",\"aw\",\"ax\",\"az\",\"ba\",\"bb\",\"bd\",\"be\",\"bf\",\"bg\",\"bh\",\"bi\",\"bj\",\"bl\",\"bm\",\"bn\",\"bo\",\"bq\",\"br\",\"bs\",\"bt\",\"bv\",\"bw\",\"by\",\"bz\",\"ca\",\"cc\",\"cd\",\"cf\",\"cg\",\"ch\",\"ci\",\"ck\",\"cl\",\"cm\",\"co\",\"cr\",\"cu\",\"cv\",\"cw\",\"cx\",\"cy\",\"cz\",\"de\",\"dj\",\"dk\",\"dm\",\"do\",\"dz\",\"ec\",\"ee\",\"eg\",\"er\",\"es\",\"et\",\"fi\",\"fj\",\"fk\",\"fm\",\"fo\",\"fr\",\"ga\",\"gb\",\"gd\",\"ge\",\"gf\",\"gg\",\"gh\",\"gi\",\"gl\",\"gm\",\"gn\",\"gp\",\"gq\",\"gr\",\"gs\",\"gt\",\"gu\",\"gw\",\"gy\",\"hk\",\"hn\",\"hr\",\"ht\",\"hu\",\"id\",\"ie\",\"il\",\"im\",\"in\",\"io\",\"iq\",\"ir\",\"is\",\"it\",\"je\",\"jm\",\"jo\",\"jp\",\"ke\",\"kg\",\"kh\",\"ki\",\"km\",\"kn\",\"kr\",\"kw\",\"ky\",\"kz\",\"la\",\"lb\",\"lc\",\"li\",\"lk\",\"lr\",\"ls\",\"lt\",\"lu\",\"lv\",\"ly\",\"ma\",\"mc\",\"md\",\"me\",\"mf\",\"mg\",\"mh\",\"mk\",\"ml\",\"mn\",\"mo\",\"mp\",\"mq\",\"mr\",\"ms\",\"mt\",\"mu\",\"mv\",\"mw\",\"mx\",\"my\",\"mz\",\"na\",\"nc\",\"ne\",\"nf\",\"ng\",\"ni\",\"nl\",\"no\",\"np\",\"nr\",\"nu\",\"nz\",\"om\",\"pa\",\"pe\",\"pf\",\"pg\",\"ph\",\"pk\",\"pl\",\"pm\",\"pn\",\"pr\",\"ps\",\"pt\",\"pw\",\"py\",\"qa\",\"re\",\"ro\",\"rs\",\"ru\",\"rw\",\"sa\",\"sb\",\"sc\",\"se\",\"sg\",\"sh\",\"si\",\"sk\",\"sl\",\"sm\",\"sn\",\"so\",\"sr\",\"st\",\"sv\",\"sx\",\"sz\",\"tc\",\"td\",\"tf\",\"tg\",\"th\",\"tj\",\"tk\",\"tl\",\"tm\",\"tn\",\"to\",\"tr\",\"tt\",\"tv\",\"tw\",\"tz\",\"ua\",\"ug\",\"us\",\"uy\",\"uz\",\"va\",\"vc\",\"ve\",\"vi\",\"vn\",\"vu\",\"wf\",\"ws\",\"xk\",\"ye\",\"yt\",\"za\",\"zm\",\"zw\"]},\"author_moderated_replies_urt_container_enabled\":{\"value\":false},\"content_language_setting_enabled\":{\"value\":true},\"conversation_controls_highlighted_education_enabled\":{\"value\":true},\"conversation_controls_limited_replies_consumption_configuration\":{\"value\":\"no_reply\"},\"conversation_controls_limited_replies_creation_enabled\":{\"value\":true},\"conversation_controls_notifying_participants_enabled\":{\"value\":false},\"dm_reactions_config_active_reactions\":{\"value\":[\"😂:funny\",\"😲:surprised\",\"😢:sad\",\"❤:like\",\"🔥:excited\",\"👍:agree\",\"👎:disagree\"]},\"dm_reactions_config_inactive_reactions\":{\"value\":[\"😠:angry\"]},\"employee_role\":{\"value\":false},\"explore_grouped_trends_and_events_10300\":{\"value\":\"control\"},\"guest_broadcasting_timeline_decorations_enabled\":{\"value\":true},\"hashflags_animation_like_button_enabled\":{\"value\":true},\"hashflags_animation_lottie_default_enabled\":{\"value\":false},\"home_timeline_latest_timeline_autoswitch_half_life_minutes\":{\"value\":43200},\"home_timeline_latest_timeline_autoswitch_threshold_multiplier\":{\"value\":2},\"home_timeline_latest_timeline_max_time_to_autoswitch_minutes\":{\"value\":5256000},\"home_timeline_latest_timeline_min_time_to_autoswitch_minutes\":{\"value\":5256000},\"home_timeline_latest_timeline_switch_enabled\":{\"value\":true},\"home_timeline_latest_timeline_threshold_to_increase_autoswitch_seconds\":{\"value\":60},\"home_timeline_spheres_copy_variant\":{\"value\":\"list_follow\"},\"home_timeline_spheres_custom_banner_image_reads_enabled\":{\"value\":true},\"home_timeline_spheres_detail_page_muting_enabled\":{\"value\":true},\"home_timeline_spheres_list_cell_thumbnail_enabled\":{\"value\":true},\"home_timeline_spheres_max_user_owned_or_subscribed_lists_count\":{\"value\":5},\"home_timeline_spheres_ranking_mode_control_enabled\":{\"value\":true},\"identity_verification_intake_enabled\":{\"value\":false},\"live_event_docking_enabled\":{\"value\":true},\"live_event_multi_video_auto_advance_dock_enabled\":{\"value\":true},\"live_event_multi_video_auto_advance_enabled\":{\"value\":true},\"live_event_multi_video_auto_advance_fullscreen_enabled\":{\"value\":false},\"live_event_multi_video_auto_advance_transition_duration_seconds\":{\"value\":5},\"live_event_multi_video_enabled\":{\"value\":true},\"live_event_timeline_default_refresh_rate_interval_seconds\":{\"value\":30},\"live_event_timeline_minimum_refresh_rate_interval_seconds\":{\"value\":10},\"live_event_timeline_server_controlled_refresh_rate_enabled\":{\"value\":true},\"live_event_vod_promoted_content_enabled\":{\"value\":true},\"livepipeline_client_enabled\":{\"value\":true},\"livepipeline_dm_features_enabled\":{\"value\":true},\"livepipeline_tweetengagement_enabled\":{\"value\":true},\"moment_annotations_enabled\":{\"value\":true},\"network_layer_503_backoff_mode\":{\"value\":\"host\"},\"responsive_web_alt_svc\":{\"value\":false},\"responsive_web_alt_text_badge_enabled\":{\"value\":false},\"responsive_web_api_transition_enabled\":{\"value\":false},\"responsive_web_auto_logout_multiaccount_enabled\":{\"value\":true},\"responsive_web_auto_logout_restrictedauthtoken_enabled\":{\"value\":true},\"responsive_web_auto_logout_twid_enabled\":{\"value\":true},\"responsive_web_birdwatch_consumption_enabled\":{\"value\":false},\"responsive_web_birdwatch_contribution_enabled\":{\"value\":false},\"responsive_web_branch_cpid_enabled\":{\"value\":true},\"responsive_web_branch_sdk_enabled\":{\"value\":true},\"responsive_web_broadcast_page_card_enabled\":{\"value\":true},\"responsive_web_card_preload_mode\":{\"value\":\"prerender\"},\"responsive_web_check_browser_support_enabled\":{\"value\":true},\"responsive_web_cleanup_macaw_swift_indexed_db\":{\"value\":true},\"responsive_web_continue_as_always_enabled\":{\"value\":false},\"responsive_web_continue_as_param_enabled\":{\"value\":true},\"responsive_web_conversation_tree_enabled\":{\"value\":false},\"responsive_web_conversation_tree_toggle\":{\"value\":false},\"responsive_web_csrf_clientside_enabled\":{\"value\":true},\"responsive_web_dark_mode_scrollbars_enabled\":{\"value\":false},\"responsive_web_dcm_2_enabled\":{\"value\":true},\"responsive_web_dm_composer_media_toggle_enabled\":{\"value\":false},\"responsive_web_dm_entry_anchoring_top_anchoring_default_enabled\":{\"value\":true},\"responsive_web_dm_health_convo_block_report_button_enabled\":{\"value\":true},\"responsive_web_dm_health_convo_group_changes_enabled\":{\"value\":true},\"responsive_web_dm_health_convo_inline_profile_info_enabled\":{\"value\":true},\"responsive_web_dm_health_inbox_request_cell_social_proof_enabled\":{\"value\":false},\"responsive_web_dm_quick_access_enabled\":{\"value\":true},\"responsive_web_dm_quick_access_no_empty_drawer_enabled\":{\"value\":true},\"responsive_web_dm_quick_access_with_close_enabled\":{\"value\":false},\"responsive_web_elevated_qt_label_configuration\":{\"value\":\"\"},\"responsive_web_elevated_qt_quote_action_menu_verbiage_enabled\":{\"value\":false},\"responsive_web_elevated_qt_tweet_detail_stat_ordering_enabled\":{\"value\":false},\"responsive_web_eu_countries\":{\"value\":[\"at\",\"be\",\"bg\",\"ch\",\"cy\",\"cz\",\"de\",\"dk\",\"ee\",\"es\",\"fi\",\"fr\",\"gb\",\"gr\",\"hr\",\"hu\",\"ie\",\"is\",\"it\",\"li\",\"lt\",\"lu\",\"lv\",\"mt\",\"nl\",\"no\",\"pl\",\"pt\",\"ro\",\"se\",\"si\",\"sk\"]},\"responsive_web_extension_compatibility_hide\":{\"value\":false},\"responsive_web_extension_compatibility_impression_guard\":{\"value\":true},\"responsive_web_extension_compatibility_override_param\":{\"value\":false},\"responsive_web_extension_compatibility_scribe\":{\"value\":true},\"responsive_web_extension_compatibility_size_threshold\":{\"value\":50},\"responsive_web_fake_root_twitter_domain_for_testing\":{\"value\":false},\"responsive_web_feature_switch_dash_enabled\":{\"value\":false},\"responsive_web_fetch_hashflags_on_boot\":{\"value\":true},\"responsive_web_fleets_dm_consumption_enabled\":{\"value\":false},\"responsive_web_framerate_tracking_home_enabled\":{\"value\":false},\"responsive_web_graphql_amr_timeline\":{\"value\":false},\"responsive_web_graphql_bookmarks\":{\"value\":false},\"responsive_web_graphql_dark_reads_probability\":{\"value\":0},\"responsive_web_graphql_list_crud\":{\"value\":true},\"responsive_web_graphql_list_management_timelines_enabled\":{\"value\":false},\"responsive_web_graphql_list_members_subscribers_enabled\":{\"value\":false},\"responsive_web_graphql_list_operations\":{\"value\":false},\"responsive_web_graphql_tweet_results\":{\"value\":false},\"responsive_web_graphql_user_by_rest_id\":{\"value\":false},\"responsive_web_graphql_user_results\":{\"value\":false},\"responsive_web_graphql_verify_credentials_enabled\":{\"value\":true},\"responsive_web_guest_token_reporting\":{\"value\":true},\"responsive_web_hide_media_previews_enabled\":{\"value\":false},\"responsive_web_history_tracker_enabled\":{\"value\":true},\"responsive_web_hoisting_anchor_invalidation_enabled\":{\"value\":false},\"responsive_web_horizon_video_player_enabled\":{\"value\":true},\"responsive_web_hover_on_mousemove_enabled\":{\"value\":false},\"responsive_web_html_archive_renderer_enabled\":{\"value\":true},\"responsive_web_hw_cards_in_dms_enabled\":{\"value\":true},\"responsive_web_inline_reply_enabled\":{\"value\":false},\"responsive_web_inline_reply_with_fab_enabled\":{\"value\":false},\"responsive_web_instream_video_enabled\":{\"value\":true},\"responsive_web_instream_video_redesign_enabled\":{\"value\":false},\"responsive_web_list_hover_cards_enabled\":{\"value\":true},\"responsive_web_live_video_parity_periscope_auth_enabled\":{\"value\":false},\"responsive_web_login_input_type_email_enabled\":{\"value\":false},\"responsive_web_login_signup_sheet_app_install_cta_enabled\":{\"value\":true},\"responsive_web_media_upload_limit_2g\":{\"value\":250},\"responsive_web_media_upload_limit_3g\":{\"value\":1500},\"responsive_web_media_upload_limit_slow_2g\":{\"value\":150},\"responsive_web_media_upload_md5_hashing_enabled\":{\"value\":false},\"responsive_web_media_upload_target_jpg_pixels_per_byte\":{\"value\":1},\"responsive_web_menu_section_divider_enabled\":{\"value\":false},\"responsive_web_modern_bundle_enabled\":{\"value\":true},\"responsive_web_modern_bundle_sw_enabled\":{\"value\":true},\"responsive_web_moment_maker_annotations_enabled\":{\"value\":false},\"responsive_web_moment_maker_enabled\":{\"value\":false},\"responsive_web_multiple_account_limit\":{\"value\":5},\"responsive_web_new_client_events_enabled\":{\"value\":false},\"responsive_web_not_my_account_screen_enabled\":{\"value\":true},\"responsive_web_ntab_verified_mentions_vit_internal_dogfood\":{\"value\":false},\"responsive_web_ocf_sms_autoverify_enabled\":{\"value\":false},\"responsive_web_promoted_trends_event_migration_enabled\":{\"value\":false},\"responsive_web_promoted_tweet_param_append_enabled\":{\"value\":false},\"responsive_web_promoted_tweet_url_rewrite_enabled\":{\"value\":false},\"responsive_web_quick_promote_enabled\":{\"value\":false},\"responsive_web_redirect_to_app_enabled\":{\"value\":true},\"responsive_web_report_page_not_found\":{\"value\":false},\"responsive_web_rich_tweet_landing_enabled\":{\"value\":true},\"responsive_web_scheduling_edit_enabled\":{\"value\":false},\"responsive_web_scheduling_enabled\":{\"value\":false},\"responsive_web_scheduling_entry_point\":{\"value\":\"overflow\"},\"responsive_web_scroller_autopoll_enabled\":{\"value\":false},\"responsive_web_scroller_v3_enabled\":{\"value\":true},\"responsive_web_search_dms_enabled\":{\"value\":true},\"responsive_web_second_degree_replies_nudge_force_enabled\":{\"value\":false},\"responsive_web_second_degree_replies_nudge_get_enabled\":{\"value\":false},\"responsive_web_second_degree_replies_nudge_show_enabled\":{\"value\":false},\"responsive_web_serviceworker_safari_disabled\":{\"value\":false},\"responsive_web_settings_revamp_enabled\":{\"value\":false},\"responsive_web_settings_timeline_refresh_background_interval\":{\"value\":0},\"responsive_web_settings_timeline_refresh_enabled\":{\"value\":false},\"responsive_web_settings_timeline_refresh_instant_default\":{\"value\":true},\"responsive_web_sports_carousel\":{\"value\":false},\"responsive_web_trends_setting_new_endpoints\":{\"value\":true},\"responsive_web_trigger_test_backoff_on_bookmark\":{\"value\":false},\"responsive_web_tweet_drafts_enabled\":{\"value\":false},\"responsive_web_tweets_pill_local_enabled\":{\"value\":true},\"responsive_web_unified_cards_live_event_enabled\":{\"value\":false},\"responsive_web_unified_cards_poll2choice_image_enabled\":{\"value\":false},\"responsive_web_unified_cards_poll2choice_video_enabled\":{\"value\":false},\"responsive_web_unified_cards_poll3choice_image_enabled\":{\"value\":false},\"responsive_web_unified_cards_poll3choice_video_enabled\":{\"value\":false},\"responsive_web_unified_cards_poll4choice_image_enabled\":{\"value\":false},\"responsive_web_unified_cards_poll4choice_video_enabled\":{\"value\":false},\"responsive_web_unsupported_entry_tombstone\":{\"value\":false},\"responsive_web_use_app_prompt_copy_variant\":{\"value\":\"prompt_better\"},\"responsive_web_use_app_prompt_enabled\":{\"value\":true},\"responsive_web_verification_v2_enabled\":{\"value\":true},\"responsive_web_video_native_fullscreen_enabled\":{\"value\":true},\"responsive_web_video_pcomplete_enabled\":{\"value\":false},\"responsive_web_video_promoted_logging_enabled\":{\"value\":true},\"responsive_web_vod_muted_captions_enabled\":{\"value\":true},\"responsive_web_vs_config_desktop_assumed_item_height\":{\"value\":100},\"responsive_web_vs_config_resize_observer_enabled\":{\"value\":true},\"responsive_web_zipkin_api_requests_enabled\":{\"value\":false},\"responsive_web_zipkin_api_requests_paths_allowlist\":{\"value\":[\"/2/timeline/home.json\"]},\"scribe_api_error_sample_size\":{\"value\":0},\"scribe_api_sample_size\":{\"value\":100},\"scribe_cdn_host_list\":{\"value\":[\"si0.twimg.com\",\"si1.twimg.com\",\"si2.twimg.com\",\"si3.twimg.com\",\"a0.twimg.com\",\"a1.twimg.com\",\"a2.twimg.com\",\"a3.twimg.com\",\"abs.twimg.com\",\"amp.twimg.com\",\"o.twimg.com\",\"pbs.twimg.com\",\"pbs-eb.twimg.com\",\"pbs-ec.twimg.com\",\"pbs-v6.twimg.com\",\"pbs-h1.twimg.com\",\"pbs-h2.twimg.com\",\"video.twimg.com\",\"platform.twitter.com\",\"cdn.api.twitter.com\",\"ton.twimg.com\",\"v.cdn.vine.co\",\"mtc.cdn.vine.co\",\"edge.vncdn.co\",\"mid.vncdn.co\"]},\"scribe_cdn_sample_size\":{\"value\":50},\"search_channels_description_enabled\":{\"value\":true},\"search_channels_discovery_page_enabled\":{\"value\":false},\"search_features_deep_link_request_params_enabled\":{\"value\":true},\"soft_interventions_forward_pivot_enabled\":{\"value\":true},\"soft_interventions_inner_qt_forward_pivot_enabled\":{\"value\":false},\"topic_landing_page_enabled\":{\"value\":true},\"topic_landing_page_share_enabled\":{\"value\":false},\"topics_descriptions_enabled\":{\"value\":true},\"topics_dismiss_control_enabled\":{\"value\":true},\"topics_new_mgmt_enabled\":{\"value\":true},\"topics_new_social_context_bottom_border_enabled\":{\"value\":false},\"topics_new_social_context_enabled\":{\"value\":false},\"topics_new_social_context_icon_color_enabled\":{\"value\":false},\"topics_peek_home_enabled\":{\"value\":false},\"topics_peek_search_enabled\":{\"value\":false},\"traffic_rewrite_map\":{\"value\":[]},\"tweet_limited_actions_config_enabled\":{\"value\":true},\"tweet_limited_actions_config_non_compliant\":{\"value\":[\"reply\",\"retweet\",\"like\",\"send_via_dm\",\"add_to_bookmarks\",\"add_to_moment\",\"pin_to_profile\",\"view_tweet_activity\",\"share_tweet_via\"]},\"unified_cards_cta_color_blue_cta\":{\"value\":true},\"user_display_name_max_limit\":{\"value\":50},\"web_video_bitrate_persistence_enabled\":{\"value\":false},\"web_video_hls_android_mse_enabled\":{\"value\":true},\"web_video_hls_mp4_threshold_sec\":{\"value\":0},\"web_video_hlsjs_max_buffer_length_pause\":{\"value\":3},\"web_video_hlsjs_max_buffer_length_play\":{\"value\":3},\"web_video_hlsjs_version\":{\"value\":\"\"}},\"debug\":{},\"impression_pointers\":{\"responsive_web_redirect_to_app_enabled\":[\"rweb_redirect_to_app_10853\"]},\"impressions\":{\"rweb_redirect_to_app_10853\":{\"key\":\"rweb_redirect_to_app_10853\",\"bucket\":\"treatment\",\"version\":2}},\"featureSetToken\":\"fafcad3e0caa453b1553c96da640aa969a615338\",\"isLoaded\":true,\"isLoading\":false,\"keysRead\":{},\"settingsVersion\":\"83d6d262063eb84986669d2230987965\"},\"urt\":{},\"entities\":{\"users\":{\"entities\":{},\"errors\":{},\"fetchStatus\":{}},\"tweets\":{\"entities\":{},\"errors\":{},\"fetchStatus\":{}},\"cards\":{\"entities\":{},\"errors\":{},\"fetchStatus\":{}}},\"toasts\":[],\"devices\":{\"browserPush\":{\"fetchStatus\":\"none\",\"pushNotificationsPrompt\":{\"dismissed\":false,\"fetchStatus\":\"none\"},\"subscribed\":false,\"supported\":null},\"devices\":{\"data\":{\"emails\":[],\"phone_numbers\":[]},\"fetchStatus\":\"none\"},\"notificationSettings\":{\"push_settings\":{\"error\":null,\"fetchStatus\":\"none\"},\"push_settings_template\":{\"template\":{\"settings\":[]}},\"sms_settings\":{\"error\":null,\"fetchStatus\":\"none\"},\"sms_settings_template\":{\"template\":{\"settings\":[]}},\"checkin_time\":null}},\"typeaheadUsers\":{\"fetchStatus\":\"none\",\"users\":{},\"denylist\":{},\"lastUpdated\":0,\"index\":{}},\"session\":{\"country\":\"US\",\"emailLiteLoginEligibility\":{\"fetchStatus\":\"none\"},\"guestId\":\"159890111767856837\",\"language\":\"en\",\"oneFactorLoginEligibility\":{\"fetchStatus\":\"none\"}},\"settings\":{\"local\":{\"nextPushCheckin\":0,\"shouldAutoPlayGif\":false,\"scale\":\"normal\",\"themeColor\":\"blue\",\"highContrastEnabled\":false,\"themeBackground\":\"light\",\"loginPromptLastShown\":0,\"mediaPreviewsEnabled\":true,\"reducedMotionEnabled\":false,\"conversationTreeEnabled\":false,\"showTweetMediaDetailDrawer\":true},\"remote\":{\"settings\":{\"display_sensitive_media\":false},\"fetchStatus\":\"none\"},\"dataSaver\":{\"dataSaverMode\":false},\"transient\":{\"dtabBarInfo\":{\"dtabAll\":null,\"dtabRweb\":null,\"hide\":false},\"loginPromptShown\":false,\"lastViewedDmInboxPath\":\"/messages\",\"themeFocus\":\"\"}},\"hashflags\":{\"fetchStatus\":\"none\",\"hashflags\":{}}};\n",
      "window.__META_DATA__ = {\"env\":\"prod\",\"isFromDynamicRenderer\":false,\"isLoggedIn\":false,\"isRTL\":false,\"hasMultiAccountCookie\":false,\"uaParserTags\":[\"m2\",\"rweb\",\"msw\"],\"serverDate\":1598901117755,\"sha\":\"04e600d81e7300a587f834e555249a41044b0064\"};\n",
      " </script>\n",
      " <script nonce=\"\">\n",
      "  document.cookie = decodeURIComponent(\"gt=1300511664018604032; Max-Age=10800; Domain=.twitter.com; Path=/; Secure\");\n",
      " </script>\n",
      " <script charset=\"utf-8\" nonce=\"\" type=\"text/javascript\">\n",
      "  window.__SCRIPTS_LOADED__ = {};\n",
      "  !function(e){function n(n){for(var o,t,i=n[0],c=n[1],l=n[2],m=0,s=[];m&lt;i.length;m++)t=i[m],Object.prototype.hasOwnProperty.call(a,t)&amp;&amp;a[t]&amp;&amp;s.push(a[t][0]),a[t]=0;for(o in c)Object.prototype.hasOwnProperty.call(c,o)&amp;&amp;(e[o]=c[o]);for(u&amp;&amp;u(n);s.length;)s.shift()();return r.push.apply(r,l||[]),d()}function d(){for(var e,n=0;n&lt;r.length;n++){for(var d=r[n],o=!0,i=1;i&lt;d.length;i++){var c=d[i];0!==a[c]&amp;&amp;(o=!1)}o&amp;&amp;(r.splice(n--,1),e=t(t.s=d[0]))}return e}var o={},a={1:0},r=[];function t(n){if(o[n])return o[n].exports;var d=o[n]={i:n,l:!1,exports:{}};return e[n].call(d.exports,d,d.exports,t),d.l=!0,d.exports}t.e=function(e){var n=[],d=a[e];if(0!==d)if(d)n.push(d[2]);else{var o=new Promise((function(n,o){d=a[e]=[n,o]}));n.push(d[2]=o);var r,i=document.createElement(\"script\");i.charset=\"utf-8\",i.timeout=120,t.nc&amp;&amp;i.setAttribute(\"nonce\",t.nc),i.src=function(e){return t.p+\"\"+({0:\"sharedCore\",3:\"shared~loader.DMDrawer~bundle.Compose~bundle.RichTextCompose~bundle.DirectMessages~bundle.DMRichTextCompose~b\",4:\"shared~bundle.ComposeMedia~bundle.Display~bundle.Ocf~bundle.Settings~bundle.SettingsProfile~bundle.UserLists~\",5:\"shared~bundle.Compose~bundle.RichTextCompose~bundle.PlainTextCompose\",6:\"shared~bundle.DirectMessages~bundle.TweetMediaDetail~bundle.UserAvatar\",7:\"shared~bundle.Ocf~bundle.SettingsProfile~bundle.UserLists\",8:\"shared~bundle.Place~bundle.Search~bundle.QuoteTweetActivity\",9:\"shared~bundle.RichTextCompose~bundle.DMRichTextCompose~ondemand.RichText\",10:\"shared~bundle.Settings~ondemand.SettingsInternals~bundle.SettingsTransparency\",11:\"shared~loader.DMDrawer~bundle.DirectMessages~bundle.DMRichTextCompose\",12:\"shared~bundle.Explore~loader.ExploreSidebar\",13:\"shared~bundle.LiveEvent~bundle.UserMoments\",14:\"shared~bundle.TopicPeek~ondemand.EmojiPicker\",15:\"shared~ondemand.EmojiPickerData~ondemand.EmojiPicker\",16:\"bundle.AboutThisAd\",17:\"bundle.Account\",18:\"bundle.AdvancedSearch\",20:\"bundle.Bookmarks\",21:\"bundle.Collection\",22:\"bundle.Compose\",23:\"bundle.ComposeMedia\",24:\"bundle.ConnectTab\",25:\"bundle.Conversation\",26:\"bundle.ConversationParticipants\",27:\"bundle.DMRichTextCompose\",28:\"bundle.DirectMessages\",29:\"bundle.Display\",30:\"bundle.Download\",31:\"bundle.Explore\",32:\"bundle.ExploreTopics\",33:\"bundle.FollowerRequests\",34:\"bundle.GenericTimeline\",35:\"bundle.GifSearch\",36:\"bundle.HomeTimeline\",37:\"bundle.KeyboardShortcuts\",38:\"bundle.LiveEvent\",39:\"bundle.LoggedOutHome\",40:\"bundle.Login\",41:\"bundle.Logout\",42:\"bundle.Moment\",43:\"bundle.MomentMaker\",44:\"bundle.MultiAccount\",45:\"bundle.NetworkInstrument\",46:\"bundle.NewsLanding\",47:\"bundle.NotMyAccount\",48:\"bundle.NotificationDetail\",49:\"bundle.Notifications\",50:\"bundle.Ocf\",51:\"bundle.Place\",52:\"bundle.PlainTextCompose\",53:\"bundle.ProfileRedirect\",54:\"bundle.QuoteTweetActivity\",55:\"bundle.Report\",56:\"bundle.RichTextCompose\",57:\"bundle.Search\",58:\"bundle.Settings\",59:\"bundle.SettingsInternals\",60:\"bundle.SettingsProfile\",61:\"bundle.SettingsRevamp\",62:\"bundle.SettingsTransparency\",63:\"bundle.SmsLogin\",64:\"bundle.TopicPeek\",65:\"bundle.Topics\",66:\"bundle.Trends\",67:\"bundle.TweetActivity\",68:\"bundle.TweetMediaDetail\",69:\"bundle.TweetMediaTags\",70:\"bundle.Twitterversary\",71:\"bundle.UserAvatar\",72:\"bundle.UserFollowLists\",73:\"bundle.UserLists\",74:\"bundle.UserMoments\",75:\"bundle.UserProfile\",76:\"bundle.UserRedirect\",126:\"loader.AbsolutePower\",127:\"loader.AppModules\",128:\"loader.DMDrawer\",129:\"loader.DashMenu\",130:\"loader.ExploreSidebar\",131:\"loader.FeedbackSheet\",132:\"loader.FeedbackTombstone\",133:\"loader.HWCard\",134:\"loader.NewTweetsPill\",135:\"loader.PeriscopeOverlay\",136:\"loader.ProfileClusterFollow\",137:\"loader.PushNotificationsPrompt\",138:\"loader.SideNav\",139:\"loader.SignupModule\",140:\"loader.TimelineRenderer\",141:\"loader.TweetCurationActionMenu\",142:\"loader.Typeahead\",143:\"loader.WideLayout\",144:\"loader.directMessagesData\",145:\"loader.graphQLDarkReads\",146:\"loader.personalizationData\",147:\"loaders.video.PlayerBase\",148:\"loaders.video.PlayerHls13\",149:\"loaders.video.PlayerUi\",150:\"loaders.video.VideoPlayerDefaultUI\",152:\"ondemand.Balloons\",153:\"ondemand.BranchSdk\",154:\"ondemand.CarouselScroller\",155:\"ondemand.ComposeScheduling\",156:\"ondemand.Dropdown\",157:\"ondemand.EditBirthdate\",158:\"ondemand.EditPinned\",159:\"ondemand.EmojiPicker\",160:\"ondemand.HoverCard\",161:\"ondemand.InlinePlayer\",162:\"ondemand.IntentPrompt\",163:\"ondemand.LottieWeb\",164:\"ondemand.MicrosoftInterface\",165:\"ondemand.ProfileSidebar\",166:\"ondemand.RichText\",167:\"ondemand.SettingsInternals\",168:\"ondemand.SettingsRevamp\",169:\"ondemand.countries-ar\",170:\"ondemand.countries-bg\",171:\"ondemand.countries-bn\",172:\"ondemand.countries-ca\",173:\"ondemand.countries-cs\",174:\"ondemand.countries-da\",175:\"ondemand.countries-de\",176:\"ondemand.countries-el\",177:\"ondemand.countries-en\",178:\"ondemand.countries-en-GB\",179:\"ondemand.countries-es\",180:\"ondemand.countries-eu\",181:\"ondemand.countries-fa\",182:\"ondemand.countries-fi\",183:\"ondemand.countries-fil\",184:\"ondemand.countries-fr\",185:\"ondemand.countries-ga\",186:\"ondemand.countries-gl\",187:\"ondemand.countries-gu\",188:\"ondemand.countries-he\",189:\"ondemand.countries-hi\",190:\"ondemand.countries-hr\",191:\"ondemand.countries-hu\",192:\"ondemand.countries-id\",193:\"ondemand.countries-it\",194:\"ondemand.countries-ja\",195:\"ondemand.countries-kn\",196:\"ondemand.countries-ko\",197:\"ondemand.countries-mr\",198:\"ondemand.countries-ms\",199:\"ondemand.countries-nb\",200:\"ondemand.countries-nl\",201:\"ondemand.countries-pl\",202:\"ondemand.countries-pt\",203:\"ondemand.countries-ro\",204:\"ondemand.countries-ru\",205:\"ondemand.countries-sk\",206:\"ondemand.countries-sr\",207:\"ondemand.countries-sv\",208:\"ondemand.countries-ta\",209:\"ondemand.countries-th\",210:\"ondemand.countries-tr\",211:\"ondemand.countries-uk\",212:\"ondemand.countries-ur\",213:\"ondemand.countries-zh\",214:\"ondemand.countries-zh-Hant\",215:\"ondemand.emoji.ar\",216:\"ondemand.emoji.bg\",217:\"ondemand.emoji.bn\",218:\"ondemand.emoji.ca\",2220:\"ondemand.emoji.da\",221:\"ondemand.emoji.de\",222:\"ondemand.emoji.el\",223:\"ondemand.emoji.en\",224:\"ondemand.emoji.en-GB\",225:\"ondemand.emoji.en-ss\",226:\"ondemand.emoji.en-xx\",227:\"ondemand.emoji.es\",228:\"ondemand.emoji.eu\",229:\"ondemand.emoji.fa\",230:\"ondemand.emoji.fi\",231:\"ondemand.emoji.fil\",232:\"ondemand.emoji.fr\",233:\"ondemand.emoji.ga\",234:\"ondemand.emoji.gl\",235:\"ondemand.emoji.gu\",236:\"ondemand.emoji.he\",237:\"ondemand.emoji.hi\",238:\"ondemand.emoji.hr\",239:\"ondemand.emoji.hu\",240:\"ondemand.emoji.id\",241:\"ondemand.emoji.it\",242:\"ondemand.emoji.ja\",243:\"ondemand.emoji.kn\",244:\"ondemand.emoji.ko\",245:\"ondemand.emoji.mr\",246:\"ondemand.emoji.ms\",247:\"ondemand.emoji.nb\",248:\"ondemand.emoji.nl\",249:\"ondemand.emoji.pl\",250:\"ondemand.emoji.pt\",251:\"ondemand.emoji.ro\",252:\"ondemand.emoji.ru\",253:\"ondemand.emoji.sk\",254:\"ondemand.emoji.sr\",255:\"ondemand.emoji.sv\",256:\"ondemand.emoji.ta\",257:\"ondemand.emoji.th\",258:\"ondemand.emoji.tr\",259:\"ondemand.emoji.uk\",260:\"ondemand.emoji.ur\",261:\"ondemand.emoji.vi\",262:\"ondemand.emoji.zh\",263:\"ondemand.emoji.zh-Hant\",264:\"ondemand.framerateTracking\",265:\"ondemand.video.PlayerHls12\"}[e]||e)+\".\"+{0:\"e70ba18\",3:\"320270a\",4:\"7553f82\",5:\"55535e6\",6:\"d12220d\",7:\"c62a445\",8:\"404c5ae\",9:\"875ffcd\",10:\"761039a\",11:\"7e22b67\",12:\"27ad1ca\",13:\"5030fa7\",14:\"9e4d43f\",15:\"3e673d7\",16:\"e98ba6d\",17:\"6a281c6\",18:\"13ca573\",20:\"5104025\",21:\"97e9ac6\",22:\"233a3b0\",23:\"a2e21b4\",24:\"06a6265\",25:\"9654310\",26:\"34a7ab5\",27:\"9fa6fd5\",28:\"3cad0c6\",29:\"1fbd83d\",30:\"2973e4e\",31:\"d2d1094\",32:\"85f1d33\",33:\"a7fb03e\",34:\"48642ff\",35:\"48ce9e5\",36:\"9a9afbf\",37:\"e3c6382\",38:\"72ab8de\",39:\"603b28b\",40:\"1b6b16a\",41:\"5f81e9e\",42:\"59237f7\",43:\"663c5dd\",44:\"0f63a38\",45:\"8d89bf0\",46:\"013b0b2\",47:\"e254c45\",48:\"8bcc4ac\",49:\"e42c10b\",50:\"57850c0\",51:\"d5d0675\",52:\"c926215\",53:\"aaf7e12\",54:\"fc60bc1\",55:\"130914f\",56:\"0e652ed\",57:\"fb01515\",58:\"19d0bd0\",59:\"9c6d3ec\",60:\"89a4d0d\",61:\"37b3f91\",62:\"fefc23e\",63:\"a8324c9\",64:\"37a799a\",65:\"50b4161\",66:\"14308d2\",67:\"a9a43bd\",68:\"0d723ee\",69:\"4f28f05\",70:\"82705e9\",71:\"83a7652\",72:\"34a4ce5\",73:\"38526a8\",74:\"4fc3f5d\",75:\"469bb0b\",76:\"0bdb778\",126:\"3f7c2da\",127:\"9cac46f\",128:\"cff2250\",129:\"615d4b8\",130:\"8965c36\",131:\"ee3dad5\",132:\"ba8fb56\",133:\"2a0d9f1\",134:\"d8b177d\",135:\"710412f\",136:\"ecec92c\",137:\"9a392e5\",138:\"fe8b782\",139:\"95ed861\",140:\"9f00dc2\",141:\"0383745\",142:\"933e257\",143:\"17f5aa8\",144:\"7738d05\",145:\"54b2d61\",146:\"e71161f\",147:\"6e5757d\",148:\"1ebbddf\",149:\"847d75a\",150:\"95dc12e\",152:\"e5004d3\",153:\"e3445e8\",154:\"b5b2278\",155:\"6dd6850\",156:\"a62663a\",157:\"aabfd24\",158:\"f811795\",159:\"1442910\",160:\"9d6b406\",161:\"8e191fb\",162:\"ae2e111\",163:\"fd2da18\",164:\"b440e28\",165:\"b795826\",166:\"066235c\",167:\"7c1f7ee\",168:\"7318f73\",169:\"de6068a\",170:\"d903534\",171:\"3c7543f\",172:\"a3e4d09\",173:\"47ec034\",174:\"02d1767\",175:\"5376ff7\",176:\"347198c\",177:\"a595ef3\",178:\"6cca4bd\",179:\"1ab17d4\",180:\"692c506\",181:\"adff8e0\",182:\"cd2286a\",183:\"6a20168\",184:\"a193660\",185:\"0a57529\",186:\"12d8888\",187:\"41c3f23\",188:\"d696897\",189:\"dd15fb1\",190:\"dbc6a2c\",191:\"6a89846\",192:\"58a21a9\",193:\"b27fa37\",194:\"3ff8c8f\",195:\"beb1794\",196:\"0ae73a2\",197:\"54eb11c\",198:\"ec561cf\",199:\"85e8e9c\",200:\"a22726f\",201:\"9c1f6da\",202:\"f527cb5\",203:\"131a8a1\",204:\"3755465\",205:\"ca363b2\",206:\"6a2f0ad\",207:\"69069ce\",208:\"ac57eb8\",209:\"d4d1907\",210:\"36c0de8\",211:\"c26b89e\",212:\"a5798a6\",213:\"330a2a1\",214:\"59f2c68\",215:\"cb5b365\",216:\"a71927f\",217:\"d5484c5\",218:\"f0cdb79\",2220:\"34feef1\",221:\"974840d\",222:\"2ba889e\",223:\"68ed22e\",224:\"237a50d\",225:\"2ef2cdd\",226:\"48b02ff\",227:\"dca0e41\",228:\"8bb5501\",229:\"201d47a\",230:\"614b17d\",231:\"5164f83\",232:\"2af5b5c\",233:\"84babf2\",234:\"ac36453\",235:\"ccd4e40\",236:\"6ca1bcb\",237:\"268e888\",238:\"71db9c4\",239:\"c153b8e\",240:\"9123d8c\",241:\"30b8e08\",242:\"8a83cef\",243:\"57c633e\",244:\"0e71709\",245:\"ff676f9\",246:\"73fa889\",247:\"b2d986c\",248:\"1960d33\",249:\"969facb\",250:\"cf8ad49\",251:\"aba1f0a\",252:\"4be2697\",253:\"37c35db\",254:\"98f1a00\",255:\"b90498f\",256:\"8fb15c1\",257:\"ef1104d\",258:\"7bbf0bb\",259:\"a055443\",260:\"0283768\",261:\"74facad\",262:\"ec18368\",263:\"2edbd02\",264:\"c4737ee\",265:\"30fc014\"}[e]+\"5.js\"}(e);var c=new Error;r=function(n){i.onerror=i.onload=null,clearTimeout(l);var d=a[e];if(0!==d){if(d){var o=n&amp;&amp;(\"load\"===n.type?\"missing\":n.type),r=n&amp;&amp;n.target&amp;&amp;n.target.src;c.message=\"Loading chunk \"+e+\" failed.\\n(\"+o+\": \"+r+\")\",c.name=\"ChunkLoadError\",c.type=o,c.request=r,d[1](c)}a[e]=void 0}};var l=setTimeout((function(){r({type:\"timeout\",target:i})}),12e4);i.onerror=i.onload=r,document.head.appendChild(i)}return Promise.all(n)},t.m=e,t.c=o,t.d=function(e,n,d){t.o(e,n)||Object.defineProperty(e,n,{enumerable:!0,get:d})},t.r=function(e){\"undefined\"!=typeof Symbol&amp;&amp;Symbol.toStringTag&amp;&amp;Object.defineProperty(e,Symbol.toStringTag,{value:\"Module\"}),Object.defineProperty(e,\"__esModule\",{value:!0})},t.t=function(e,n){if(1&amp;n&amp;&amp;(e=t(e)),8&amp;n)return e;if(4&amp;n&amp;&amp;\"object\"==typeof e&amp;&amp;e&amp;&amp;e.__esModule)return e;var d=Object.create(null);if(t.r(d),Object.defineProperty(d,\"default\",{enumerable:!0,value:e}),2&amp;n&amp;&amp;\"string\"!=typeof e)for(var o in e)t.d(d,o,function(n){return e[n]}.bind(null,o));return d},t.n=function(e){var n=e&amp;&amp;e.__esModule?function(){return e.default}:function(){return e};return t.d(n,\"a\",n),n},t.o=function(e,n){return Object.prototype.hasOwnProperty.call(e,n)},t.p=\"https://abs.twimg.com/responsive-web/client-web/\",t.oe=function(e){throw e};var i=window.webpackJsonp=window.webpackJsonp||[],c=i.push.bind(i);i.push=n,i=i.slice();for(var l=0;l&lt;i.length;l++)n(i[l]);var u=c;d()}([]),window.__SCRIPTS_LOADED__.runtime=!0;\n",
      " </script>\n",
      " <script charset=\"utf-8\" crossorigin=\"anonymous\" nonce=\"\" src=\"https://abs.twimg.com/responsive-web/client-web/polyfills.931ce165.js\" type=\"text/javascript\">\n",
      " </script>\n",
      " <script charset=\"utf-8\" crossorigin=\"anonymous\" nonce=\"\" src=\"https://abs.twimg.com/responsive-web/client-web/vendors~main.e7e20d65.js\" type=\"text/javascript\">\n",
      " </script>\n",
      " <script charset=\"utf-8\" crossorigin=\"anonymous\" nonce=\"\" src=\"https://abs.twimg.com/responsive-web/client-web/i18n/en.2f2b0e75.js\" type=\"text/javascript\">\n",
      " </script>\n",
      " <script charset=\"utf-8\" crossorigin=\"anonymous\" nonce=\"\" src=\"https://abs.twimg.com/responsive-web/client-web/main.8b57aa45.js\" type=\"text/javascript\">\n",
      " </script>\n",
      " <script nonce=\"\">\n",
      "  if (!window.__SCRIPTS_LOADED__['main']) {\n",
      "    document.getElementById('ScriptLoadFailure').style.display = 'block';\n",
      "    var criticalScripts = 'polyfills,vendors~main,i18n,main'.split(',');\n",
      "    for (let i = 0; i &lt; criticalScripts.length; i++) {\n",
      "      var criticalScript = criticalScripts[i];\n",
      "      if (!window.__SCRIPTS_LOADED__[criticalScript]) {\n",
      "        document.getElementsByName('failedScript')[0].value = criticalScript\n",
      "        break;\n",
      "      }\n",
      "    }\n",
      "  }\n",
      " </script>\n",
      " <script async=\"\" src=\"https://twitter.com/i/js_inst?c_name=ui_metrics\">\n",
      " </script>\n",
      "</body>\n"
     ]
    }
   ],
   "source": [
    "body=soup2.body\n",
    "print(body.prettify())\n"
   ]
  },
  {
   "cell_type": "code",
   "execution_count": 76,
   "metadata": {},
   "outputs": [
    {
     "name": "stdout",
     "output_type": "stream",
     "text": [
      "<div class=\"css-1dbjc4n r-150rngu r-16y2uox r-1wbh5a2 r-33ulu8\"><div class=\"css-1dbjc4n r-aqfbo4 r-16y2uox\"><div class=\"css-1dbjc4n r-1oszu61 r-1niwhzg r-18u37iz r-16y2uox r-1wtj0ep r-2llsf r-13qz1uu\"><div class=\"css-1dbjc4n r-14lw9ot r-1tlfku8 r-1ljd8xs r-13l2t4g r-1phboty r-1jgb5lz r-11wrixw r-61z16t r-1ye8kvj r-13qz1uu r-184en5c\" data-testid=\"primaryColumn\"><div class=\"css-1dbjc4n\"><div class=\"css-1dbjc4n r-aqfbo4 r-14lw9ot r-my5ep6 r-rull8r r-qklmqi r-gtdqiz r-ipm5af r-1g40b8q\"><div class=\"css-1dbjc4n r-1loqt21 r-136ojw6\"><div class=\"css-1dbjc4n r-1h3ijdo r-136ojw6\"><div class=\"css-1dbjc4n\"><div class=\"css-1dbjc4n r-14lw9ot r-1h3ijdo r-1j3t67a\"><div class=\"css-1dbjc4n r-1awozwy r-18u37iz r-1h3ijdo r-1777fci r-1jgb5lz r-1ye8kvj r-13qz1uu\"><div class=\"css-1dbjc4n r-1habvwh r-1pz39u2 r-1777fci r-1vsu8ta r-u0dd49\"><div aria-label=\"Back\" class=\"css-18t94o4 css-1dbjc4n r-1niwhzg r-42olwf r-sdzlij r-1phboty r-rs99b7 r-1w2pmg r-1vuscfd r-53xb7h r-1ny4l3l r-mk0yit r-o7ynqc r-6416eg r-lrvibr\" data-focusable=\"true\" role=\"button\" style=\"margin-left: calc(5px + (-1 * (41px - 1.5em)) / 2);\" tabindex=\"0\"><div class=\"css-901oao r-1awozwy r-13gxpu9 r-6koalj r-18u37iz r-16y2uox r-1qd0xha r-a023e6 r-vw2c0b r-1777fci r-eljoum r-dnmrzs r-bcqeeo r-q4m81j r-qvutc0\" dir=\"auto\"><svg class=\"r-13gxpu9 r-4qtqp9 r-yyyyoo r-1q142lx r-50lct3 r-dnmrzs r-bnwqim r-1plcrui r-lrvibr r-1srniue\" viewbox=\"0 0 24 24\" xmlns=\"http://www.w3.org/2000/svg\"><g><path d=\"M20 11H7.414l4.293-4.293c.39-.39.39-1.023 0-1.414s-1.023-.39-1.414 0l-6 6c-.39.39-.39 1.023 0 1.414l6 6c.195.195.45.293.707.293s.512-.098.707-.293c.39-.39.39-1.023 0-1.414L7.414 13H20c.553 0 1-.447 1-1s-.447-1-1-1z\"></path></g></svg><span class=\"css-901oao css-16my406 css-bfa6kz r-1qd0xha r-ad9z0x r-bcqeeo r-qvutc0\"></span></div></div></div><div class=\"css-1dbjc4n r-16y2uox r-1wbh5a2 r-1pi2tsx r-1777fci\"><div class=\"css-1dbjc4n r-1habvwh\"><h2 aria-level=\"2\" class=\"css-4rbku5 css-901oao css-bfa6kz r-hkyrab r-1qd0xha r-1b6yd1w r-1vr29t4 r-ad9z0x r-bcqeeo r-qvutc0\" dir=\"ltr\" role=\"heading\"><span class=\"css-901oao css-16my406 r-1qd0xha r-ad9z0x r-bcqeeo r-qvutc0\">Profile</span></h2></div></div></div></div></div></div></div><div class=\"css-1dbjc4n r-1p0dtai r-18u37iz r-1777fci r-1d2f490 r-12vffkv r-u8s1d r-zchlnj r-1wyyakw\"><div class=\"css-1dbjc4n\" role=\"status\"><div aria-hidden=\"true\" aria-label=\"New Tweets are available. Push period to go to the beginning of your timeline and view them\" class=\"css-18t94o4 css-1dbjc4n r-urgr8i r-sdzlij r-y3da5r r-1777fci r-orgf3d r-1ny4l3l r-1j3t67a r-d3hbe1 r-o7ynqc r-6416eg r-nx0j10\" role=\"button\"><div class=\"css-1dbjc4n r-18u37iz r-atwnbb\"><svg class=\"r-1kihuf0 r-jwli3a r-4qtqp9 r-yyyyoo r-1xvli5t r-7o8qx1 r-dnmrzs r-bnwqim r-1plcrui r-lrvibr r-19wmn03\" viewbox=\"0 0 24 24\" xmlns=\"http://www.w3.org/2000/svg\"><g><path d=\"M18.707 10.293l-6-6c-.39-.39-1.023-.39-1.414 0l-6 6c-.39.39-.39 1.023 0 1.414.195.195.45.293.707.293s.512-.098.707-.293L11 7.414V20c0 .553.447 1 1 1s1-.447 1-1V7.414l4.293 4.293c.195.195.45.293.707.293s.512-.098.707-.293c.39-.39.39-1.023 0-1.414z\"></path></g></svg><div class=\"css-1dbjc4n\"><div class=\"css-1dbjc4n r-18u37iz r-1q142lx\"></div></div><div class=\"css-901oao css-bfa6kz r-jwli3a r-1qd0xha r-a023e6 r-16dba41 r-ad9z0x r-bcqeeo r-qvutc0\" dir=\"auto\"><span class=\"css-901oao css-16my406 r-1qd0xha r-ad9z0x r-bcqeeo r-qvutc0\">See new Tweets</span></div></div></div></div></div></div><div class=\"css-1dbjc4n\"><div class=\"css-1dbjc4n r-1awozwy r-16y2uox r-1777fci r-utggzx r-tvv088\"><div aria-label=\"Loading Tweets by @marswxreport\" aria-valuemax=\"1\" aria-valuemin=\"0\" class=\"css-1dbjc4n r-1awozwy r-1777fci\" role=\"progressbar\"><div class=\"css-1dbjc4n r-17bb2tj r-1muvv40 r-127358a r-1ldzwu0\" style=\"height: 26px; width: 26px;\"><svg height=\"100%\" viewbox=\"0 0 32 32\" width=\"100%\" xmlns=\"http://www.w3.org/2000/svg\"><circle cx=\"16\" cy=\"16\" fill=\"none\" r=\"14\" stroke-width=\"4\" style=\"stroke: rgb(29, 161, 242); opacity: 0.2;\"></circle><circle cx=\"16\" cy=\"16\" fill=\"none\" r=\"14\" stroke-width=\"4\" style=\"stroke: rgb(29, 161, 242); stroke-dasharray: 80; stroke-dashoffset: 60;\"></circle></svg></div></div></div></div></div></div></div></div></div>\n",
      "<span class=\"css-901oao css-16my406 css-bfa6kz r-1qd0xha r-ad9z0x r-bcqeeo r-qvutc0\"></span>\n"
     ]
    }
   ],
   "source": [
    "main = body.find('main')\n",
    "#print(main.prettify())\n",
    "\n",
    "div= main.div\n",
    "print(div)\n",
    "span = div.find('span')\n",
    "print(span)"
   ]
  },
  {
   "cell_type": "code",
   "execution_count": 78,
   "metadata": {},
   "outputs": [
    {
     "name": "stdout",
     "output_type": "stream",
     "text": [
      "<div id=\"react-root\" style=\"height:100%;display:flex;\"><div class=\"css-1dbjc4n r-13awgt0 r-12vffkv\"><div class=\"css-1dbjc4n r-13awgt0 r-12vffkv\"><div class=\"r-1d2f490 r-u8s1d r-zchlnj r-ipm5af r-184en5c\" id=\"layers\" style=\"\"><div class=\"css-1dbjc4n r-aqfbo4 r-1p0dtai r-1d2f490 r-12vffkv r-1xcajam r-zchlnj\"><div class=\"css-1dbjc4n r-12vffkv\"><div class=\"css-1dbjc4n r-12vffkv\"><div class=\"css-1dbjc4n r-urgr8i r-1upvrn0\"><div class=\"css-1dbjc4n r-18u37iz r-1777fci r-zg41ew\"><div class=\"css-1dbjc4n r-1awozwy r-18u37iz r-1wtj0ep r-33ulu8\"><div class=\"css-1dbjc4n\"><div class=\"css-901oao r-jwli3a r-1qd0xha r-1blvdjr r-vw2c0b r-ad9z0x r-bcqeeo r-qvutc0\" dir=\"auto\"><span class=\"css-901oao css-16my406 r-1qd0xha r-ad9z0x r-bcqeeo r-qvutc0\">Don’t miss what’s happening</span></div><div class=\"css-901oao r-jwli3a r-1qd0xha r-a023e6 r-16dba41 r-ad9z0x r-bcqeeo r-qvutc0\" dir=\"auto\"><span class=\"css-901oao css-16my406 r-1qd0xha r-ad9z0x r-bcqeeo r-qvutc0\">People on Twitter are the first to know.</span></div></div><div class=\"css-1dbjc4n r-1oy2gb8\"><div class=\"css-1dbjc4n r-1awozwy r-1pz39u2 r-18u37iz r-16y2uox\"><div class=\"css-1dbjc4n r-16y2uox\"><a class=\"css-4rbku5 css-18t94o4 css-1dbjc4n r-1niwhzg r-11mg6pl r-sdzlij r-1phboty r-rs99b7 r-1loqt21 r-1w2pmg r-1vuscfd r-1dhvaqw r-1ny4l3l r-1fneopy r-o7ynqc r-6416eg r-lrvibr\" data-focusable=\"true\" data-testid=\"login\" href=\"/login\" role=\"button\"><div class=\"css-901oao r-1awozwy r-jwli3a r-6koalj r-18u37iz r-16y2uox r-1qd0xha r-a023e6 r-vw2c0b r-1777fci r-eljoum r-dnmrzs r-bcqeeo r-q4m81j r-qvutc0\" dir=\"auto\"><span class=\"css-901oao css-16my406 css-bfa6kz r-1qd0xha r-ad9z0x r-bcqeeo r-qvutc0\"><span class=\"css-901oao css-16my406 r-1qd0xha r-ad9z0x r-bcqeeo r-qvutc0\">Log in</span></span></div></a></div><div class=\"css-1dbjc4n r-16y2uox r-1n0xq6e\"><a class=\"css-4rbku5 css-18t94o4 css-1dbjc4n r-14lw9ot r-42olwf r-sdzlij r-1phboty r-rs99b7 r-1loqt21 r-1w2pmg r-1vuscfd r-1dhvaqw r-1ny4l3l r-1fneopy r-o7ynqc r-6416eg r-lrvibr\" data-focusable=\"true\" data-testid=\"signup\" href=\"/i/flow/signup\" role=\"button\"><div class=\"css-901oao r-1awozwy r-13gxpu9 r-6koalj r-18u37iz r-16y2uox r-1qd0xha r-a023e6 r-vw2c0b r-1777fci r-eljoum r-dnmrzs r-bcqeeo r-q4m81j r-qvutc0\" dir=\"auto\"><span class=\"css-901oao css-16my406 css-bfa6kz r-1qd0xha r-ad9z0x r-bcqeeo r-qvutc0\"><span class=\"css-901oao css-16my406 r-1qd0xha r-ad9z0x r-bcqeeo r-qvutc0\">Sign up</span></span></div></a></div></div></div></div></div></div></div></div><div class=\"css-1dbjc4n r-12vffkv\"><div class=\"css-1dbjc4n r-12vffkv\"><div class=\"css-1dbjc4n\"></div></div></div></div></div><div aria-hidden=\"false\" class=\"css-1dbjc4n r-18u37iz r-13qz1uu r-417010\" style=\"min-height: 888px;\"><div aria-label=\"Skip to recommended content\" class=\"css-18t94o4 css-1dbjc4n r-1niwhzg r-1awa8pu r-sdzlij r-1phboty r-4iw3lz r-1xk2f4g r-109y4c4 r-1vuscfd r-1dhvaqw r-1ny4l3l r-1udh08x r-wwvuq4 r-1fneopy r-u8s1d r-o7ynqc r-6416eg r-lrvibr r-92ng3h\" data-focusable=\"true\" role=\"button\" tabindex=\"0\"><div class=\"css-901oao r-1awozwy r-1re7ezh r-6koalj r-18u37iz r-16y2uox r-1qd0xha r-a023e6 r-vw2c0b r-1777fci r-eljoum r-dnmrzs r-bcqeeo r-q4m81j r-qvutc0\" dir=\"auto\"><span class=\"css-901oao css-16my406 css-bfa6kz r-1qd0xha r-ad9z0x r-bcqeeo r-qvutc0\"></span></div></div><div aria-label=\"Skip to secondary content\" class=\"css-18t94o4 css-1dbjc4n r-1niwhzg r-1awa8pu r-sdzlij r-1phboty r-4iw3lz r-1xk2f4g r-109y4c4 r-1vuscfd r-1dhvaqw r-1ny4l3l r-1udh08x r-wwvuq4 r-1fneopy r-u8s1d r-o7ynqc r-6416eg r-lrvibr r-92ng3h\" data-focusable=\"true\" role=\"button\" tabindex=\"0\"><div class=\"css-901oao r-1awozwy r-1re7ezh r-6koalj r-18u37iz r-16y2uox r-1qd0xha r-a023e6 r-vw2c0b r-1777fci r-eljoum r-dnmrzs r-bcqeeo r-q4m81j r-qvutc0\" dir=\"auto\"><span class=\"css-901oao css-16my406 css-bfa6kz r-1qd0xha r-ad9z0x r-bcqeeo r-qvutc0\"></span></div></div><header class=\"css-1dbjc4n r-obd0qt r-16y2uox r-1g40b8q\" role=\"banner\"><div class=\"css-1dbjc4n r-f9dfq4\"><div class=\"css-1dbjc4n r-aqfbo4 r-1pi2tsx r-1xcajam r-ipm5af\"><div class=\"css-1dbjc4n r-1pi2tsx r-1wtj0ep r-1rnoaur r-utggzx r-f9dfq4\"><div class=\"css-1dbjc4n r-1awozwy\"><div class=\"css-1dbjc4n r-dnmrzs r-1vvnge1\"><h1 class=\"css-4rbku5 css-1dbjc4n r-1awozwy r-1pz39u2 r-1loqt21 r-6koalj r-16y2uox r-1777fci r-18qmn74\" role=\"heading\"><a aria-label=\"Twitter\" class=\"css-4rbku5 css-18t94o4 css-1dbjc4n r-1niwhzg r-42olwf r-sdzlij r-1phboty r-rs99b7 r-1loqt21 r-1w2pmg r-1jayybb r-mtrfb5 r-1ny4l3l r-mk0yit r-o7ynqc r-6416eg r-lrvibr\" data-focusable=\"true\" href=\"/\" role=\"button\"><div class=\"css-901oao r-1awozwy r-13gxpu9 r-6koalj r-18u37iz r-16y2uox r-1qd0xha r-a023e6 r-vw2c0b r-1777fci r-eljoum r-dnmrzs r-bcqeeo r-q4m81j r-qvutc0\" dir=\"auto\"><svg class=\"r-13gxpu9 r-4qtqp9 r-yyyyoo r-16y2uox r-1q142lx r-8kz0gk r-dnmrzs r-bnwqim r-1plcrui r-lrvibr r-1srniue\" viewbox=\"0 0 24 24\" xmlns=\"http://www.w3.org/2000/svg\"><g><path d=\"M23.643 4.937c-.835.37-1.732.62-2.675.733.962-.576 1.7-1.49 2.048-2.578-.9.534-1.897.922-2.958 1.13-.85-.904-2.06-1.47-3.4-1.47-2.572 0-4.658 2.086-4.658 4.66 0 .364.042.718.12 1.06-3.873-.195-7.304-2.05-9.602-4.868-.4.69-.63 1.49-.63 2.342 0 1.616.823 3.043 2.072 3.878-.764-.025-1.482-.234-2.11-.583v.06c0 2.257 1.605 4.14 3.737 4.568-.392.106-.803.162-1.227.162-.3 0-.593-.028-.877-.082.593 1.85 2.313 3.198 4.352 3.234-1.595 1.25-3.604 1.995-5.786 1.995-.376 0-.747-.022-1.112-.065 2.062 1.323 4.51 2.093 7.14 2.093 8.57 0 13.255-7.098 13.255-13.254 0-.2-.005-.402-.014-.602.91-.658 1.7-1.477 2.323-2.41z\"></path></g></svg><span class=\"css-901oao css-16my406 css-bfa6kz r-1qd0xha r-ad9z0x r-bcqeeo r-qvutc0\"></span></div></a></h1></div><div class=\"css-1dbjc4n r-1awozwy r-d0pm55 r-1bymd8e r-13qz1uu\"><nav aria-label=\"Primary\" class=\"css-1dbjc4n r-1awozwy r-eqz5dr\" role=\"navigation\"><a aria-label=\"Search and explore\" class=\"css-4rbku5 css-18t94o4 css-1dbjc4n r-1habvwh r-1loqt21 r-6koalj r-eqz5dr r-16y2uox r-1ny4l3l r-oyd9sg r-13qz1uu\" data-focusable=\"true\" data-testid=\"AppTabBar_Explore_Link\" href=\"/explore\" role=\"link\"><div class=\"css-1dbjc4n r-1awozwy r-sdzlij r-18u37iz r-1777fci r-dnmrzs r-1sp51qo r-o7ynqc r-6416eg\"><div class=\"css-1dbjc4n\"><svg class=\"r-hkyrab r-4qtqp9 r-yyyyoo r-lwhw9o r-dnmrzs r-bnwqim r-1plcrui r-lrvibr\" viewbox=\"0 0 24 24\" xmlns=\"http://www.w3.org/2000/svg\"><g><path d=\"M21.53 20.47l-3.66-3.66C19.195 15.24 20 13.214 20 11c0-4.97-4.03-9-9-9s-9 4.03-9 9 4.03 9 9 9c2.215 0 4.24-.804 5.808-2.13l3.66 3.66c.147.146.34.22.53.22s.385-.073.53-.22c.295-.293.295-.767.002-1.06zM3.5 11c0-4.135 3.365-7.5 7.5-7.5s7.5 3.365 7.5 7.5-3.365 7.5-7.5 7.5-7.5-3.365-7.5-7.5z\"></path></g></svg></div></div></a><a aria-label=\"Settings\" class=\"css-4rbku5 css-18t94o4 css-1dbjc4n r-1habvwh r-1loqt21 r-6koalj r-eqz5dr r-16y2uox r-1ny4l3l r-oyd9sg r-13qz1uu\" data-focusable=\"true\" href=\"/settings\" role=\"link\"><div class=\"css-1dbjc4n r-1awozwy r-sdzlij r-18u37iz r-1777fci r-dnmrzs r-1sp51qo r-o7ynqc r-6416eg\"><div class=\"css-1dbjc4n\"><svg class=\"r-hkyrab r-4qtqp9 r-yyyyoo r-lwhw9o r-dnmrzs r-bnwqim r-1plcrui r-lrvibr\" viewbox=\"0 0 24 24\" xmlns=\"http://www.w3.org/2000/svg\"><g><path d=\"M12 8.21c-2.09 0-3.79 1.7-3.79 3.79s1.7 3.79 3.79 3.79 3.79-1.7 3.79-3.79-1.7-3.79-3.79-3.79zm0 6.08c-1.262 0-2.29-1.026-2.29-2.29S10.74 9.71 12 9.71s2.29 1.026 2.29 2.29-1.028 2.29-2.29 2.29z\"></path><path d=\"M12.36 22.375h-.722c-1.183 0-2.154-.888-2.262-2.064l-.014-.147c-.025-.287-.207-.533-.472-.644-.286-.12-.582-.065-.798.115l-.116.097c-.868.725-2.253.663-3.06-.14l-.51-.51c-.836-.84-.896-2.154-.14-3.06l.098-.118c.186-.222.23-.523.122-.787-.11-.272-.358-.454-.646-.48l-.15-.014c-1.18-.107-2.067-1.08-2.067-2.262v-.722c0-1.183.888-2.154 2.064-2.262l.156-.014c.285-.025.53-.207.642-.473.11-.27.065-.573-.12-.795l-.094-.116c-.757-.908-.698-2.223.137-3.06l.512-.512c.804-.804 2.188-.865 3.06-.14l.116.098c.218.184.528.23.79.122.27-.112.452-.358.477-.643l.014-.153c.107-1.18 1.08-2.066 2.262-2.066h.722c1.183 0 2.154.888 2.262 2.064l.014.156c.025.285.206.53.472.64.277.117.58.062.794-.117l.12-.102c.867-.723 2.254-.662 3.06.14l.51.512c.836.838.896 2.153.14 3.06l-.1.118c-.188.22-.234.522-.123.788.112.27.36.45.646.478l.152.014c1.18.107 2.067 1.08 2.067 2.262v.723c0 1.183-.888 2.154-2.064 2.262l-.155.014c-.284.024-.53.205-.64.47-.113.272-.067.574.117.795l.1.12c.756.905.696 2.22-.14 3.06l-.51.51c-.807.804-2.19.864-3.06.14l-.115-.096c-.217-.183-.53-.23-.79-.122-.273.114-.455.36-.48.646l-.014.15c-.107 1.173-1.08 2.06-2.262 2.06zm-3.773-4.42c.3 0 .593.06.87.175.79.328 1.324 1.054 1.4 1.896l.014.147c.037.4.367.7.77.7h.722c.4 0 .73-.3.768-.7l.014-.148c.076-.842.61-1.567 1.392-1.892.793-.33 1.696-.182 2.333.35l.113.094c.178.148.366.18.493.18.206 0 .4-.08.546-.227l.51-.51c.284-.284.305-.73.048-1.038l-.1-.12c-.542-.65-.677-1.54-.352-2.323.326-.79 1.052-1.32 1.894-1.397l.155-.014c.397-.037.7-.367.7-.77v-.722c0-.4-.303-.73-.702-.768l-.152-.014c-.846-.078-1.57-.61-1.895-1.393-.326-.788-.19-1.678.353-2.327l.1-.118c.257-.31.236-.756-.048-1.04l-.51-.51c-.146-.147-.34-.227-.546-.227-.127 0-.315.032-.492.18l-.12.1c-.634.528-1.55.67-2.322.354-.788-.327-1.32-1.052-1.397-1.896l-.014-.155c-.035-.397-.365-.7-.767-.7h-.723c-.4 0-.73.303-.768.702l-.014.152c-.076.843-.608 1.568-1.39 1.893-.787.326-1.693.183-2.33-.35l-.118-.096c-.18-.15-.368-.18-.495-.18-.206 0-.4.08-.546.226l-.512.51c-.282.284-.303.73-.046 1.038l.1.118c.54.653.677 1.544.352 2.325-.327.788-1.052 1.32-1.895 1.397l-.156.014c-.397.037-.7.367-.7.77v.722c0 .4.303.73.702.768l.15.014c.848.078 1.573.612 1.897 1.396.325.786.19 1.675-.353 2.325l-.096.115c-.26.31-.238.756.046 1.04l.51.51c.146.147.34.227.546.227.127 0 .315-.03.492-.18l.116-.096c.406-.336.923-.524 1.453-.524z\"></path></g></svg></div></div></a></nav></div></div></div></div></div></header><main class=\"css-1dbjc4n r-1habvwh r-16xksha r-1wbh5a2\" role=\"main\"><div class=\"css-1dbjc4n r-150rngu r-16y2uox r-1wbh5a2 r-33ulu8\"><div class=\"css-1dbjc4n r-aqfbo4 r-16y2uox\"><div class=\"css-1dbjc4n r-1oszu61 r-1niwhzg r-18u37iz r-16y2uox r-1wtj0ep r-2llsf r-13qz1uu\"><div class=\"css-1dbjc4n r-14lw9ot r-1tlfku8 r-1ljd8xs r-13l2t4g r-1phboty r-1jgb5lz r-11wrixw r-61z16t r-1ye8kvj r-13qz1uu r-184en5c\" data-testid=\"primaryColumn\"><div class=\"css-1dbjc4n\"><div class=\"css-1dbjc4n r-aqfbo4 r-14lw9ot r-my5ep6 r-rull8r r-qklmqi r-gtdqiz r-ipm5af r-1g40b8q\"><div class=\"css-1dbjc4n r-1loqt21 r-136ojw6\"><div class=\"css-1dbjc4n r-1h3ijdo r-136ojw6\"><div class=\"css-1dbjc4n\"><div class=\"css-1dbjc4n r-14lw9ot r-1h3ijdo r-1j3t67a\"><div class=\"css-1dbjc4n r-1awozwy r-18u37iz r-1h3ijdo r-1777fci r-1jgb5lz r-1ye8kvj r-13qz1uu\"><div class=\"css-1dbjc4n r-1habvwh r-1pz39u2 r-1777fci r-1vsu8ta r-u0dd49\"><div aria-label=\"Back\" class=\"css-18t94o4 css-1dbjc4n r-1niwhzg r-42olwf r-sdzlij r-1phboty r-rs99b7 r-1w2pmg r-1vuscfd r-53xb7h r-1ny4l3l r-mk0yit r-o7ynqc r-6416eg r-lrvibr\" data-focusable=\"true\" role=\"button\" style=\"margin-left: calc(5px + (-1 * (41px - 1.5em)) / 2);\" tabindex=\"0\"><div class=\"css-901oao r-1awozwy r-13gxpu9 r-6koalj r-18u37iz r-16y2uox r-1qd0xha r-a023e6 r-vw2c0b r-1777fci r-eljoum r-dnmrzs r-bcqeeo r-q4m81j r-qvutc0\" dir=\"auto\"><svg class=\"r-13gxpu9 r-4qtqp9 r-yyyyoo r-1q142lx r-50lct3 r-dnmrzs r-bnwqim r-1plcrui r-lrvibr r-1srniue\" viewbox=\"0 0 24 24\" xmlns=\"http://www.w3.org/2000/svg\"><g><path d=\"M20 11H7.414l4.293-4.293c.39-.39.39-1.023 0-1.414s-1.023-.39-1.414 0l-6 6c-.39.39-.39 1.023 0 1.414l6 6c.195.195.45.293.707.293s.512-.098.707-.293c.39-.39.39-1.023 0-1.414L7.414 13H20c.553 0 1-.447 1-1s-.447-1-1-1z\"></path></g></svg><span class=\"css-901oao css-16my406 css-bfa6kz r-1qd0xha r-ad9z0x r-bcqeeo r-qvutc0\"></span></div></div></div><div class=\"css-1dbjc4n r-16y2uox r-1wbh5a2 r-1pi2tsx r-1777fci\"><div class=\"css-1dbjc4n r-1habvwh\"><h2 aria-level=\"2\" class=\"css-4rbku5 css-901oao css-bfa6kz r-hkyrab r-1qd0xha r-1b6yd1w r-1vr29t4 r-ad9z0x r-bcqeeo r-qvutc0\" dir=\"ltr\" role=\"heading\"><span class=\"css-901oao css-16my406 r-1qd0xha r-ad9z0x r-bcqeeo r-qvutc0\">Profile</span></h2></div></div></div></div></div></div></div><div class=\"css-1dbjc4n r-1p0dtai r-18u37iz r-1777fci r-1d2f490 r-12vffkv r-u8s1d r-zchlnj r-1wyyakw\"><div class=\"css-1dbjc4n\" role=\"status\"><div aria-hidden=\"true\" aria-label=\"New Tweets are available. Push period to go to the beginning of your timeline and view them\" class=\"css-18t94o4 css-1dbjc4n r-urgr8i r-sdzlij r-y3da5r r-1777fci r-orgf3d r-1ny4l3l r-1j3t67a r-d3hbe1 r-o7ynqc r-6416eg r-nx0j10\" role=\"button\"><div class=\"css-1dbjc4n r-18u37iz r-atwnbb\"><svg class=\"r-1kihuf0 r-jwli3a r-4qtqp9 r-yyyyoo r-1xvli5t r-7o8qx1 r-dnmrzs r-bnwqim r-1plcrui r-lrvibr r-19wmn03\" viewbox=\"0 0 24 24\" xmlns=\"http://www.w3.org/2000/svg\"><g><path d=\"M18.707 10.293l-6-6c-.39-.39-1.023-.39-1.414 0l-6 6c-.39.39-.39 1.023 0 1.414.195.195.45.293.707.293s.512-.098.707-.293L11 7.414V20c0 .553.447 1 1 1s1-.447 1-1V7.414l4.293 4.293c.195.195.45.293.707.293s.512-.098.707-.293c.39-.39.39-1.023 0-1.414z\"></path></g></svg><div class=\"css-1dbjc4n\"><div class=\"css-1dbjc4n r-18u37iz r-1q142lx\"></div></div><div class=\"css-901oao css-bfa6kz r-jwli3a r-1qd0xha r-a023e6 r-16dba41 r-ad9z0x r-bcqeeo r-qvutc0\" dir=\"auto\"><span class=\"css-901oao css-16my406 r-1qd0xha r-ad9z0x r-bcqeeo r-qvutc0\">See new Tweets</span></div></div></div></div></div></div><div class=\"css-1dbjc4n\"><div class=\"css-1dbjc4n r-1awozwy r-16y2uox r-1777fci r-utggzx r-tvv088\"><div aria-label=\"Loading Tweets by @marswxreport\" aria-valuemax=\"1\" aria-valuemin=\"0\" class=\"css-1dbjc4n r-1awozwy r-1777fci\" role=\"progressbar\"><div class=\"css-1dbjc4n r-17bb2tj r-1muvv40 r-127358a r-1ldzwu0\" style=\"height: 26px; width: 26px;\"><svg height=\"100%\" viewbox=\"0 0 32 32\" width=\"100%\" xmlns=\"http://www.w3.org/2000/svg\"><circle cx=\"16\" cy=\"16\" fill=\"none\" r=\"14\" stroke-width=\"4\" style=\"stroke: rgb(29, 161, 242); opacity: 0.2;\"></circle><circle cx=\"16\" cy=\"16\" fill=\"none\" r=\"14\" stroke-width=\"4\" style=\"stroke: rgb(29, 161, 242); stroke-dasharray: 80; stroke-dashoffset: 60;\"></circle></svg></div></div></div></div></div></div></div></div></div></main></div></div></div></div>\n"
     ]
    }
   ],
   "source": [
    "tweet = body.find('div')\n",
    "print(tweet)\n",
    "#print(tweet)"
   ]
  },
  {
   "cell_type": "code",
   "execution_count": 79,
   "metadata": {},
   "outputs": [
    {
     "name": "stdout",
     "output_type": "stream",
     "text": [
      "<span class=\"css-901oao css-16my406 r-1qd0xha r-ad9z0x r-bcqeeo r-qvutc0\">Don’t miss what’s happening</span>\n"
     ]
    }
   ],
   "source": [
    "tweet1 = tweet.find('span', class_='css-901oao css-16my406 r-1qd0xha r-ad9z0x r-bcqeeo r-qvutc0')\n",
    "print(tweet1)"
   ]
  },
  {
   "cell_type": "code",
   "execution_count": 80,
   "metadata": {},
   "outputs": [
    {
     "name": "stdout",
     "output_type": "stream",
     "text": [
      "<span class=\"css-901oao css-16my406 r-1qd0xha r-ad9z0x r-bcqeeo r-qvutc0\">Don’t miss what’s happening</span>\n"
     ]
    }
   ],
   "source": [
    "tweet1 = soup2.find('span', class_='css-901oao css-16my406 r-1qd0xha r-ad9z0x r-bcqeeo r-qvutc0')\n",
    "print(tweet1)\n"
   ]
  },
  {
   "cell_type": "code",
   "execution_count": 83,
   "metadata": {},
   "outputs": [
    {
     "name": "stdout",
     "output_type": "stream",
     "text": [
      "InSight sol 611 (2020-08-15) low -93.8ºC (-136.9ºF) high -15.9ºC (3.4ºF) winds from the WNW at 7.3 m/s (16.3 mph) gusting to 17.9 m/s (40.2 mph) pressure at 7.90 hPa\n"
     ]
    }
   ],
   "source": [
    "weather_tweet='InSight sol 611 (2020-08-15) low -93.8ºC (-136.9ºF) high -15.9ºC (3.4ºF) winds from the WNW at 7.3 m/s (16.3 mph) gusting to 17.9 m/s (40.2 mph) pressure at 7.90 hPa'\n",
    "print(weather_tweet)"
   ]
  },
  {
   "cell_type": "markdown",
   "metadata": {},
   "source": [
    " ## Mars Facts"
   ]
  },
  {
   "cell_type": "code",
   "execution_count": 101,
   "metadata": {},
   "outputs": [],
   "source": [
    "import pandas as pd"
   ]
  },
  {
   "cell_type": "code",
   "execution_count": 102,
   "metadata": {},
   "outputs": [],
   "source": [
    "url3 = 'https://space-facts.com/mars/'"
   ]
  },
  {
   "cell_type": "code",
   "execution_count": 103,
   "metadata": {},
   "outputs": [
    {
     "data": {
      "text/plain": [
       "[                      0                              1\n",
       " 0  Equatorial Diameter:                       6,792 km\n",
       " 1       Polar Diameter:                       6,752 km\n",
       " 2                 Mass:  6.39 × 10^23 kg (0.11 Earths)\n",
       " 3                Moons:            2 (Phobos & Deimos)\n",
       " 4       Orbit Distance:       227,943,824 km (1.38 AU)\n",
       " 5         Orbit Period:           687 days (1.9 years)\n",
       " 6  Surface Temperature:                   -87 to -5 °C\n",
       " 7         First Record:              2nd millennium BC\n",
       " 8          Recorded By:           Egyptian astronomers,\n",
       "   Mars - Earth Comparison             Mars            Earth\n",
       " 0               Diameter:         6,779 km        12,742 km\n",
       " 1                   Mass:  6.39 × 10^23 kg  5.97 × 10^24 kg\n",
       " 2                  Moons:                2                1\n",
       " 3      Distance from Sun:   227,943,824 km   149,598,262 km\n",
       " 4         Length of Year:   687 Earth days      365.24 days\n",
       " 5            Temperature:     -87 to -5 °C      -88 to 58°C,\n",
       "                       0                              1\n",
       " 0  Equatorial Diameter:                       6,792 km\n",
       " 1       Polar Diameter:                       6,752 km\n",
       " 2                 Mass:  6.39 × 10^23 kg (0.11 Earths)\n",
       " 3                Moons:            2 (Phobos & Deimos)\n",
       " 4       Orbit Distance:       227,943,824 km (1.38 AU)\n",
       " 5         Orbit Period:           687 days (1.9 years)\n",
       " 6  Surface Temperature:                   -87 to -5 °C\n",
       " 7         First Record:              2nd millennium BC\n",
       " 8          Recorded By:           Egyptian astronomers]"
      ]
     },
     "execution_count": 103,
     "metadata": {},
     "output_type": "execute_result"
    }
   ],
   "source": [
    "tables = pd.read_html(url3)\n",
    "tables"
   ]
  },
  {
   "cell_type": "code",
   "execution_count": 104,
   "metadata": {},
   "outputs": [
    {
     "data": {
      "text/html": [
       "<div>\n",
       "<style scoped>\n",
       "    .dataframe tbody tr th:only-of-type {\n",
       "        vertical-align: middle;\n",
       "    }\n",
       "\n",
       "    .dataframe tbody tr th {\n",
       "        vertical-align: top;\n",
       "    }\n",
       "\n",
       "    .dataframe thead th {\n",
       "        text-align: right;\n",
       "    }\n",
       "</style>\n",
       "<table border=\"1\" class=\"dataframe\">\n",
       "  <thead>\n",
       "    <tr style=\"text-align: right;\">\n",
       "      <th></th>\n",
       "      <th>Attributes</th>\n",
       "      <th></th>\n",
       "    </tr>\n",
       "  </thead>\n",
       "  <tbody>\n",
       "    <tr>\n",
       "      <th>0</th>\n",
       "      <td>Equatorial Diameter:</td>\n",
       "      <td>6,792 km</td>\n",
       "    </tr>\n",
       "    <tr>\n",
       "      <th>1</th>\n",
       "      <td>Polar Diameter:</td>\n",
       "      <td>6,752 km</td>\n",
       "    </tr>\n",
       "    <tr>\n",
       "      <th>2</th>\n",
       "      <td>Mass:</td>\n",
       "      <td>6.39 × 10^23 kg (0.11 Earths)</td>\n",
       "    </tr>\n",
       "    <tr>\n",
       "      <th>3</th>\n",
       "      <td>Moons:</td>\n",
       "      <td>2 (Phobos &amp; Deimos)</td>\n",
       "    </tr>\n",
       "    <tr>\n",
       "      <th>4</th>\n",
       "      <td>Orbit Distance:</td>\n",
       "      <td>227,943,824 km (1.38 AU)</td>\n",
       "    </tr>\n",
       "    <tr>\n",
       "      <th>5</th>\n",
       "      <td>Orbit Period:</td>\n",
       "      <td>687 days (1.9 years)</td>\n",
       "    </tr>\n",
       "    <tr>\n",
       "      <th>6</th>\n",
       "      <td>Surface Temperature:</td>\n",
       "      <td>-87 to -5 °C</td>\n",
       "    </tr>\n",
       "    <tr>\n",
       "      <th>7</th>\n",
       "      <td>First Record:</td>\n",
       "      <td>2nd millennium BC</td>\n",
       "    </tr>\n",
       "    <tr>\n",
       "      <th>8</th>\n",
       "      <td>Recorded By:</td>\n",
       "      <td>Egyptian astronomers</td>\n",
       "    </tr>\n",
       "  </tbody>\n",
       "</table>\n",
       "</div>"
      ],
      "text/plain": [
       "             Attributes                               \n",
       "0  Equatorial Diameter:                       6,792 km\n",
       "1       Polar Diameter:                       6,752 km\n",
       "2                 Mass:  6.39 × 10^23 kg (0.11 Earths)\n",
       "3                Moons:            2 (Phobos & Deimos)\n",
       "4       Orbit Distance:       227,943,824 km (1.38 AU)\n",
       "5         Orbit Period:           687 days (1.9 years)\n",
       "6  Surface Temperature:                   -87 to -5 °C\n",
       "7         First Record:              2nd millennium BC\n",
       "8          Recorded By:           Egyptian astronomers"
      ]
     },
     "execution_count": 104,
     "metadata": {},
     "output_type": "execute_result"
    }
   ],
   "source": [
    "df = tables[0]\n",
    "df.columns = ['Attributes','']\n",
    "df"
   ]
  },
  {
   "cell_type": "code",
   "execution_count": 105,
   "metadata": {},
   "outputs": [
    {
     "data": {
      "text/html": [
       "<div>\n",
       "<style scoped>\n",
       "    .dataframe tbody tr th:only-of-type {\n",
       "        vertical-align: middle;\n",
       "    }\n",
       "\n",
       "    .dataframe tbody tr th {\n",
       "        vertical-align: top;\n",
       "    }\n",
       "\n",
       "    .dataframe thead th {\n",
       "        text-align: right;\n",
       "    }\n",
       "</style>\n",
       "<table border=\"1\" class=\"dataframe\">\n",
       "  <thead>\n",
       "    <tr style=\"text-align: right;\">\n",
       "      <th></th>\n",
       "      <th></th>\n",
       "    </tr>\n",
       "    <tr>\n",
       "      <th>Attributes</th>\n",
       "      <th></th>\n",
       "    </tr>\n",
       "  </thead>\n",
       "  <tbody>\n",
       "    <tr>\n",
       "      <th>Equatorial Diameter:</th>\n",
       "      <td>6,792 km</td>\n",
       "    </tr>\n",
       "    <tr>\n",
       "      <th>Polar Diameter:</th>\n",
       "      <td>6,752 km</td>\n",
       "    </tr>\n",
       "    <tr>\n",
       "      <th>Mass:</th>\n",
       "      <td>6.39 × 10^23 kg (0.11 Earths)</td>\n",
       "    </tr>\n",
       "    <tr>\n",
       "      <th>Moons:</th>\n",
       "      <td>2 (Phobos &amp; Deimos)</td>\n",
       "    </tr>\n",
       "    <tr>\n",
       "      <th>Orbit Distance:</th>\n",
       "      <td>227,943,824 km (1.38 AU)</td>\n",
       "    </tr>\n",
       "    <tr>\n",
       "      <th>Orbit Period:</th>\n",
       "      <td>687 days (1.9 years)</td>\n",
       "    </tr>\n",
       "    <tr>\n",
       "      <th>Surface Temperature:</th>\n",
       "      <td>-87 to -5 °C</td>\n",
       "    </tr>\n",
       "    <tr>\n",
       "      <th>First Record:</th>\n",
       "      <td>2nd millennium BC</td>\n",
       "    </tr>\n",
       "    <tr>\n",
       "      <th>Recorded By:</th>\n",
       "      <td>Egyptian astronomers</td>\n",
       "    </tr>\n",
       "  </tbody>\n",
       "</table>\n",
       "</div>"
      ],
      "text/plain": [
       "                                                   \n",
       "Attributes                                         \n",
       "Equatorial Diameter:                       6,792 km\n",
       "Polar Diameter:                            6,752 km\n",
       "Mass:                 6.39 × 10^23 kg (0.11 Earths)\n",
       "Moons:                          2 (Phobos & Deimos)\n",
       "Orbit Distance:            227,943,824 km (1.38 AU)\n",
       "Orbit Period:                  687 days (1.9 years)\n",
       "Surface Temperature:                   -87 to -5 °C\n",
       "First Record:                     2nd millennium BC\n",
       "Recorded By:                   Egyptian astronomers"
      ]
     },
     "execution_count": 105,
     "metadata": {},
     "output_type": "execute_result"
    }
   ],
   "source": [
    "df.set_index('Attributes')\n"
   ]
  },
  {
   "cell_type": "code",
   "execution_count": 106,
   "metadata": {},
   "outputs": [
    {
     "data": {
      "text/plain": [
       "'<table border=\"1\" class=\"dataframe\">\\n  <thead>\\n    <tr style=\"text-align: right;\">\\n      <th></th>\\n      <th>Attributes</th>\\n      <th></th>\\n    </tr>\\n  </thead>\\n  <tbody>\\n    <tr>\\n      <th>0</th>\\n      <td>Equatorial Diameter:</td>\\n      <td>6,792 km</td>\\n    </tr>\\n    <tr>\\n      <th>1</th>\\n      <td>Polar Diameter:</td>\\n      <td>6,752 km</td>\\n    </tr>\\n    <tr>\\n      <th>2</th>\\n      <td>Mass:</td>\\n      <td>6.39 × 10^23 kg (0.11 Earths)</td>\\n    </tr>\\n    <tr>\\n      <th>3</th>\\n      <td>Moons:</td>\\n      <td>2 (Phobos &amp; Deimos)</td>\\n    </tr>\\n    <tr>\\n      <th>4</th>\\n      <td>Orbit Distance:</td>\\n      <td>227,943,824 km (1.38 AU)</td>\\n    </tr>\\n    <tr>\\n      <th>5</th>\\n      <td>Orbit Period:</td>\\n      <td>687 days (1.9 years)</td>\\n    </tr>\\n    <tr>\\n      <th>6</th>\\n      <td>Surface Temperature:</td>\\n      <td>-87 to -5 °C</td>\\n    </tr>\\n    <tr>\\n      <th>7</th>\\n      <td>First Record:</td>\\n      <td>2nd millennium BC</td>\\n    </tr>\\n    <tr>\\n      <th>8</th>\\n      <td>Recorded By:</td>\\n      <td>Egyptian astronomers</td>\\n    </tr>\\n  </tbody>\\n</table>'"
      ]
     },
     "execution_count": 106,
     "metadata": {},
     "output_type": "execute_result"
    }
   ],
   "source": [
    "html_table = df.to_html()\n",
    "html_table"
   ]
  },
  {
   "cell_type": "code",
   "execution_count": 107,
   "metadata": {},
   "outputs": [
    {
     "data": {
      "text/plain": [
       "'<table border=\"1\" class=\"dataframe\">  <thead>    <tr style=\"text-align: right;\">      <th></th>      <th>Attributes</th>      <th></th>    </tr>  </thead>  <tbody>    <tr>      <th>0</th>      <td>Equatorial Diameter:</td>      <td>6,792 km</td>    </tr>    <tr>      <th>1</th>      <td>Polar Diameter:</td>      <td>6,752 km</td>    </tr>    <tr>      <th>2</th>      <td>Mass:</td>      <td>6.39 × 10^23 kg (0.11 Earths)</td>    </tr>    <tr>      <th>3</th>      <td>Moons:</td>      <td>2 (Phobos &amp; Deimos)</td>    </tr>    <tr>      <th>4</th>      <td>Orbit Distance:</td>      <td>227,943,824 km (1.38 AU)</td>    </tr>    <tr>      <th>5</th>      <td>Orbit Period:</td>      <td>687 days (1.9 years)</td>    </tr>    <tr>      <th>6</th>      <td>Surface Temperature:</td>      <td>-87 to -5 °C</td>    </tr>    <tr>      <th>7</th>      <td>First Record:</td>      <td>2nd millennium BC</td>    </tr>    <tr>      <th>8</th>      <td>Recorded By:</td>      <td>Egyptian astronomers</td>    </tr>  </tbody></table>'"
      ]
     },
     "execution_count": 107,
     "metadata": {},
     "output_type": "execute_result"
    }
   ],
   "source": [
    "html_table.replace('\\n', '')"
   ]
  },
  {
   "cell_type": "code",
   "execution_count": 108,
   "metadata": {},
   "outputs": [],
   "source": [
    " df.to_html('table.html')"
   ]
  },
  {
   "cell_type": "markdown",
   "metadata": {},
   "source": [
    "## Mars Hemispheres"
   ]
  },
  {
   "cell_type": "code",
   "execution_count": 40,
   "metadata": {},
   "outputs": [],
   "source": [
    "url4=\"https://astrogeology.usgs.gov/search/map/Mars/Viking/cerberus_enhanced\"\n",
    "response4 = requests.get(url4)\n",
    "soup4=BeautifulSoup(response4.text, 'html.parser')"
   ]
  },
  {
   "cell_type": "code",
   "execution_count": 41,
   "metadata": {},
   "outputs": [
    {
     "name": "stdout",
     "output_type": "stream",
     "text": [
      "Cerberus Hemisphere Enhanced\n",
      "https://astropedia.astrogeology.usgs.gov/download/Mars/Viking/cerberus_enhanced.tif/full.jpg\n"
     ]
    }
   ],
   "source": [
    "download = soup4.find_all('div', class_='downloads')\n",
    "\n",
    "for li in download:\n",
    "    mars_img1=li.a\n",
    "    mars_img1= mars_img1['href']\n",
    "    \n",
    "title = soup4.find('h2', class_='title')\n",
    "title1= title.text\n",
    "\n",
    "print (title1)\n",
    "print (mars_img1)"
   ]
  },
  {
   "cell_type": "code",
   "execution_count": 42,
   "metadata": {},
   "outputs": [],
   "source": [
    "url5=\"https://astrogeology.usgs.gov/search/map/Mars/Viking/schiaparelli_enhanced\"\n",
    "response5 = requests.get(url5)\n",
    "soup5=BeautifulSoup(response5.text, 'html.parser')"
   ]
  },
  {
   "cell_type": "code",
   "execution_count": 43,
   "metadata": {},
   "outputs": [],
   "source": [
    "hemisphere_image_urls = []\n",
    "dict_url_img = {}"
   ]
  },
  {
   "cell_type": "code",
   "execution_count": 44,
   "metadata": {},
   "outputs": [
    {
     "name": "stdout",
     "output_type": "stream",
     "text": [
      "Schiaparelli Hemisphere Enhanced\n",
      "https://astropedia.astrogeology.usgs.gov/download/Mars/Viking/schiaparelli_enhanced.tif/full.jpg\n"
     ]
    }
   ],
   "source": [
    "download = soup5.find_all('div', class_='downloads')\n",
    "\n",
    "title2 = soup5.find('h2', class_='title')\n",
    "title2= title2.text\n",
    "dict_url_img['title']=title2\n",
    "\n",
    "for li in download:\n",
    "    mars_img2=li.a\n",
    "    mars_img2= mars_img2['href']\n",
    "  \n",
    "\n",
    "    print (title2)\n",
    "    print (mars_img2)"
   ]
  },
  {
   "cell_type": "code",
   "execution_count": 45,
   "metadata": {},
   "outputs": [],
   "source": [
    "url6=\"https://astrogeology.usgs.gov/search/map/Mars/Viking/syrtis_major_enhanced\"\n",
    "response6 = requests.get(url6)\n",
    "soup6=BeautifulSoup(response6.text, 'html.parser')"
   ]
  },
  {
   "cell_type": "code",
   "execution_count": 46,
   "metadata": {},
   "outputs": [
    {
     "name": "stdout",
     "output_type": "stream",
     "text": [
      "Syrtis Major Hemisphere Enhanced\n",
      "https://astropedia.astrogeology.usgs.gov/download/Mars/Viking/schiaparelli_enhanced.tif/full.jpg\n"
     ]
    }
   ],
   "source": [
    "download6 = soup6.find_all('div', class_='downloads')\n",
    "\n",
    "title3 = soup6.find('h2', class_='title')\n",
    "title3= title3.text\n",
    "\n",
    "\n",
    "for li in download:\n",
    "    mars_img3=li.a\n",
    "    mars_img3= mars_img3['href']\n",
    "\n",
    "    \n",
    "    print (title3)\n",
    "    print (mars_img3)"
   ]
  },
  {
   "cell_type": "code",
   "execution_count": 47,
   "metadata": {},
   "outputs": [],
   "source": [
    "url7=\"https://astrogeology.usgs.gov/search/map/Mars/Viking/valles_marineris_enhanced\"\n",
    "response7 = requests.get(url7)\n",
    "soup7=BeautifulSoup(response7.text, 'html.parser')"
   ]
  },
  {
   "cell_type": "code",
   "execution_count": 48,
   "metadata": {},
   "outputs": [
    {
     "name": "stdout",
     "output_type": "stream",
     "text": [
      "Valles Marineris Hemisphere Enhanced\n",
      "https://astropedia.astrogeology.usgs.gov/download/Mars/Viking/schiaparelli_enhanced.tif/full.jpg\n"
     ]
    }
   ],
   "source": [
    "download7 = soup7.find_all('div', class_='downloads')\n",
    "\n",
    "for li in download:\n",
    "    mars_img4=li.a\n",
    "    mars_img4= mars_img4['href']\n",
    "    \n",
    "title4 = soup7.find('h2', class_='title')\n",
    "title4= title4.text\n",
    "\n",
    "print (title4)\n",
    "print (mars_img4)"
   ]
  },
  {
   "cell_type": "code",
   "execution_count": 49,
   "metadata": {},
   "outputs": [],
   "source": [
    "hemisphere_image_urls=[\n",
    "    {'Title':title1, 'img_url': mars_img1},\n",
    "    {'Title':title2, 'img_url': mars_img2},\n",
    "    {'Title': title3, 'img_url': mars_img3},\n",
    "    {'Title': title4, 'img-url': mars_img4}    \n",
    "]"
   ]
  },
  {
   "cell_type": "code",
   "execution_count": 50,
   "metadata": {},
   "outputs": [
    {
     "name": "stdout",
     "output_type": "stream",
     "text": [
      "[{'Title': 'Cerberus Hemisphere Enhanced', 'img_url': 'https://astropedia.astrogeology.usgs.gov/download/Mars/Viking/cerberus_enhanced.tif/full.jpg'}, {'Title': 'Schiaparelli Hemisphere Enhanced', 'img_url': 'https://astropedia.astrogeology.usgs.gov/download/Mars/Viking/schiaparelli_enhanced.tif/full.jpg'}, {'Title': 'Syrtis Major Hemisphere Enhanced', 'img_url': 'https://astropedia.astrogeology.usgs.gov/download/Mars/Viking/schiaparelli_enhanced.tif/full.jpg'}, {'Title': 'Valles Marineris Hemisphere Enhanced', 'img-url': 'https://astropedia.astrogeology.usgs.gov/download/Mars/Viking/schiaparelli_enhanced.tif/full.jpg'}]\n"
     ]
    }
   ],
   "source": [
    "print(hemisphere_image_urls)"
   ]
  }
 ],
 "metadata": {
  "kernelspec": {
   "display_name": "Python 3",
   "language": "python",
   "name": "python3"
  },
  "language_info": {
   "codemirror_mode": {
    "name": "ipython",
    "version": 3
   },
   "file_extension": ".py",
   "mimetype": "text/x-python",
   "name": "python",
   "nbconvert_exporter": "python",
   "pygments_lexer": "ipython3",
   "version": "3.6.10"
  }
 },
 "nbformat": 4,
 "nbformat_minor": 4
}
